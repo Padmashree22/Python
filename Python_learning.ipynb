{
 "cells": [
  {
   "cell_type": "code",
   "execution_count": 1,
   "id": "40f77f91-2521-401d-b535-cb7e9a0b53cc",
   "metadata": {},
   "outputs": [
    {
     "name": "stdout",
     "output_type": "stream",
     "text": [
      "Hello World\n"
     ]
    }
   ],
   "source": [
    "print(\"Hello World\") "
   ]
  },
  {
   "cell_type": "code",
   "execution_count": 2,
   "id": "3cad7214-d273-4d63-9832-a3e6858792ec",
   "metadata": {},
   "outputs": [
    {
     "name": "stdout",
     "output_type": "stream",
     "text": [
      "3.11.7 | packaged by Anaconda, Inc. | (main, Dec 15 2023, 18:05:47) [MSC v.1916 64 bit (AMD64)]\n"
     ]
    }
   ],
   "source": [
    "import sys #Python version of the editor\n",
    "print(sys.version)"
   ]
  },
  {
   "cell_type": "code",
   "execution_count": 3,
   "id": "42a0924c-c7bb-4490-bb6e-e9d7a536b7cb",
   "metadata": {},
   "outputs": [
    {
     "name": "stdout",
     "output_type": "stream",
     "text": [
      "Five is greater than two\n"
     ]
    }
   ],
   "source": [
    "if 5>2: #Indentation is important, else error is caused\n",
    "    print(\"Five is greater than two\") #minimium 1 space, usual is 4 spaces"
   ]
  },
  {
   "cell_type": "code",
   "execution_count": 4,
   "id": "f9b42703-5f6b-4223-8a4d-fb20c1b29775",
   "metadata": {},
   "outputs": [
    {
     "ename": "IndentationError",
     "evalue": "unexpected indent (2678729782.py, line 3)",
     "output_type": "error",
     "traceback": [
      "\u001b[1;36m  Cell \u001b[1;32mIn[4], line 3\u001b[1;36m\u001b[0m\n\u001b[1;33m    print(\"Five is greater than two\")\u001b[0m\n\u001b[1;37m    ^\u001b[0m\n\u001b[1;31mIndentationError\u001b[0m\u001b[1;31m:\u001b[0m unexpected indent\n"
     ]
    }
   ],
   "source": [
    "if 5>2: #Same number of spaces to use in the same block, else error like in here\n",
    "    print(\"Five is greater than two\")\n",
    "        print(\"Five is greater than two\")"
   ]
  },
  {
   "cell_type": "code",
   "execution_count": 5,
   "id": "3c05a50e-d5c1-4639-a2cb-edaf2fe27226",
   "metadata": {},
   "outputs": [
    {
     "name": "stdout",
     "output_type": "stream",
     "text": [
      "Five is greater than two\n",
      "Five is greater than two\n"
     ]
    }
   ],
   "source": [
    "if 5>2: #Same number of spaces to use in the same block\n",
    "    print(\"Five is greater than two\")\n",
    "    print(\"Five is greater than two\")"
   ]
  },
  {
   "cell_type": "code",
   "execution_count": 6,
   "id": "c90e23cd-7921-4f57-8f23-cf3e9fe2ef53",
   "metadata": {},
   "outputs": [
    {
     "name": "stdout",
     "output_type": "stream",
     "text": [
      "5\n"
     ]
    }
   ],
   "source": [
    "x=5 #variables are created when we assign a value to it\n",
    "y=\"Hello, World!\"\n",
    "\"\"\"\n",
    "This is\n",
    "a multiline\n",
    "comment\n",
    "\"\"\"\n",
    "print(x)"
   ]
  },
  {
   "cell_type": "code",
   "execution_count": 7,
   "id": "6e671a4d-e4bf-429d-9726-0fc613b3757b",
   "metadata": {},
   "outputs": [
    {
     "name": "stdout",
     "output_type": "stream",
     "text": [
      "Paddu\n"
     ]
    }
   ],
   "source": [
    "y=4 #variable name is case-sensitive\n",
    "y=\"Paddu\"\n",
    "print(y) #Variables can change their type"
   ]
  },
  {
   "cell_type": "code",
   "execution_count": 8,
   "id": "3c418b06-f8f9-4ec0-8742-73eaa07c4845",
   "metadata": {},
   "outputs": [
    {
     "name": "stdout",
     "output_type": "stream",
     "text": [
      "3\n",
      "3\n",
      "3.0\n",
      "<class 'str'>\n",
      "<class 'int'>\n",
      "<class 'float'>\n"
     ]
    }
   ],
   "source": [
    "x=str(3)\n",
    "y=int(3)\n",
    "z=float(3)\n",
    "print(x); print(y); print(z) #prints the value as assigned type\n",
    "print(type(x)); print(type(y)); print(type(z)) #prints the type of assigned value"
   ]
  },
  {
   "cell_type": "code",
   "execution_count": 9,
   "id": "6cb73ff4-bd9c-4ec9-b780-381705152927",
   "metadata": {},
   "outputs": [
    {
     "name": "stdout",
     "output_type": "stream",
     "text": [
      "Orange\n",
      "9\n",
      "Five\n"
     ]
    }
   ],
   "source": [
    "x,y,z=\"Orange\", 9,\"Five\" #Many values to multiple variables\n",
    "print(x); print(y); print(z)"
   ]
  },
  {
   "cell_type": "code",
   "execution_count": 10,
   "id": "80f25ecd-af0b-436e-a8ce-8b1b6e0106ed",
   "metadata": {},
   "outputs": [
    {
     "name": "stdout",
     "output_type": "stream",
     "text": [
      "Orange\n",
      "Orange\n",
      "Orange\n"
     ]
    }
   ],
   "source": [
    "x=y=z=\"Orange\" #One value to multiple variables\n",
    "print(x); print(y); print(z)\n",
    "#or print(x,y,z) or print(x+y+z)"
   ]
  },
  {
   "cell_type": "code",
   "execution_count": 11,
   "id": "d6711bfd-c131-40b6-af2a-9beab0393006",
   "metadata": {},
   "outputs": [
    {
     "name": "stdout",
     "output_type": "stream",
     "text": [
      "1\n",
      "2\n",
      "3\n",
      "1 2 3\n",
      "6\n"
     ]
    }
   ],
   "source": [
    "numbers=[1,2,3] #Unpack a collection!\n",
    "x,y,z=numbers\n",
    "#Different print methods\n",
    "print(x); print(y); print(z)\n",
    "print(x,y,z)\n",
    "print(x+y+z) #cannot be done with different type"
   ]
  },
  {
   "cell_type": "code",
   "execution_count": 12,
   "id": "49756319-b241-4699-b903-debfe04e0158",
   "metadata": {},
   "outputs": [
    {
     "name": "stdout",
     "output_type": "stream",
     "text": [
      "I am awesome\n"
     ]
    }
   ],
   "source": [
    "#Global Variables\n",
    "x= \"awesome\"\n",
    "\n",
    "def myfunc():\n",
    "    print(\"I am\",x) #Need to take care of spaces\n",
    "    #print(\"I am \" + x) #Need to take care of 1 space after \"am\"\n",
    "myfunc()"
   ]
  },
  {
   "cell_type": "code",
   "execution_count": 13,
   "id": "44dbae7b-031e-4a3d-ac66-ab4341ff0035",
   "metadata": {},
   "outputs": [
    {
     "name": "stdout",
     "output_type": "stream",
     "text": [
      "Python is fantastic\n",
      "Python is awesome\n"
     ]
    }
   ],
   "source": [
    "#Local variable can't be global but global can be local.\n",
    "x = \"awesome\"\n",
    "\n",
    "def myfunc():\n",
    "  x = \"fantastic\"\n",
    "  print(\"Python is \" + x)\n",
    "\n",
    "myfunc()\n",
    "\n",
    "print(\"Python is \" + x)"
   ]
  },
  {
   "cell_type": "code",
   "execution_count": 14,
   "id": "8856af07-8ff6-4712-b5fc-27c1bae93037",
   "metadata": {},
   "outputs": [
    {
     "name": "stdout",
     "output_type": "stream",
     "text": [
      "Python is awesome\n",
      "Python is fantastic\n"
     ]
    }
   ],
   "source": [
    "#If you use the global keyword, the variable belongs to the global scope:\n",
    "x = \"awesome\"\n",
    "def myfunc():\n",
    "  global x\n",
    "  print(\"Python is \" + x)\n",
    "  x = \"fantastic\"\n",
    "\n",
    "myfunc()\n",
    "\n",
    "print(\"Python is \" + x)"
   ]
  },
  {
   "cell_type": "code",
   "execution_count": 15,
   "id": "14230db1-c24b-4b30-9c2a-b805d97066da",
   "metadata": {},
   "outputs": [],
   "source": [
    "#DATA TYPES\n",
    "x = [\"apple\", \"banana\", \"cherry\"] #LIST\n",
    "x = list((\"apple\", \"banana\", \"cherry\"))\t\n",
    "\n",
    "x = tuple((\"apple\", \"banana\", \"cherry\"))\n",
    "x = (\"apple\", \"banana\", \"cherry\") #TUPLE\n",
    "\n",
    "x = {\"name\" : \"John\", \"age\" : 36} #dict (Mapping type)\n",
    "x = dict(name=\"John\", age=36)\n",
    "\n",
    "x = {\"apple\", \"banana\", \"cherry\"} #SET\n",
    "x = set((\"apple\", \"banana\", \"cherry\"))\n",
    "\n",
    "x = frozenset({\"apple\", \"banana\", \"cherry\"}) #FROZENSET\n",
    "x = frozenset((\"apple\", \"banana\", \"cherry\"))\n",
    "\n",
    "x = True\t#bool\t\n",
    "x = b\"Hello\"\t#bytes\t\n",
    "x = bytearray(5)\t#bytearray\t\n",
    "x = memoryview(bytes(5))\t#memoryview\t\n",
    "x = None\t#NoneType"
   ]
  },
  {
   "cell_type": "code",
   "execution_count": 16,
   "id": "8d3569cf-5d74-4a94-bfa3-84c47e4b1a69",
   "metadata": {},
   "outputs": [
    {
     "name": "stdout",
     "output_type": "stream",
     "text": [
      "{'name': 'John', 'age': 36}\n"
     ]
    }
   ],
   "source": [
    "x = dict(name=\"John\", age=36)\n",
    "print(x)"
   ]
  },
  {
   "cell_type": "code",
   "execution_count": 17,
   "id": "abbbedd4-7098-4734-b5e9-afe4deef855f",
   "metadata": {},
   "outputs": [
    {
     "name": "stdout",
     "output_type": "stream",
     "text": [
      "<class 'int'>\n"
     ]
    }
   ],
   "source": [
    "z = -3255522\n",
    "print(type(z))"
   ]
  },
  {
   "cell_type": "code",
   "execution_count": 18,
   "id": "2a5862c0-2344-4364-97fd-41b5656204f1",
   "metadata": {},
   "outputs": [
    {
     "name": "stdout",
     "output_type": "stream",
     "text": [
      "<class 'float'> <class 'float'> <class 'float'>\n"
     ]
    }
   ],
   "source": [
    "x = 35e3\n",
    "y = 12E4\n",
    "z = -87.7e100\n",
    "\n",
    "print(type(x),type(y),type(z))"
   ]
  },
  {
   "cell_type": "code",
   "execution_count": 19,
   "id": "8ded958e-d760-413c-bf1a-32054c8fa1de",
   "metadata": {},
   "outputs": [
    {
     "name": "stdout",
     "output_type": "stream",
     "text": [
      "1.0 2 (1+0j)\n"
     ]
    }
   ],
   "source": [
    "#Convert from one type to another\n",
    "x = 1    # int\n",
    "y = 2.8  # float\n",
    "z = 1j   # complex\n",
    "\n",
    "#convert from int to float:\n",
    "a = float(x)\n",
    "\n",
    "#convert from float to int:\n",
    "b = int(y)\n",
    "\n",
    "#convert from int to complex:\n",
    "c = complex(x) #You cannot convert complex numbers into another number type.\n",
    "\n",
    "print(a,b,c)"
   ]
  },
  {
   "cell_type": "code",
   "execution_count": 20,
   "id": "6c3df8ac-161e-4bbd-8029-0e95b4821780",
   "metadata": {},
   "outputs": [
    {
     "name": "stdout",
     "output_type": "stream",
     "text": [
      "4\n"
     ]
    }
   ],
   "source": [
    "#Python doesn't have random number function, so\n",
    "import random\n",
    "\n",
    "print(random.randrange(1, 10))"
   ]
  },
  {
   "cell_type": "code",
   "execution_count": 21,
   "id": "d680d5b9-f3fe-4017-ba3a-89a7b1df9045",
   "metadata": {},
   "outputs": [
    {
     "name": "stdout",
     "output_type": "stream",
     "text": [
      "It's alright\n",
      "He is called 'Johnny'\n",
      "He is called \"Johnny\"\n"
     ]
    }
   ],
   "source": [
    "#Python strings with '' or \"\". \n",
    "print(\"It's alright\")\n",
    "print(\"He is called 'Johnny'\")\n",
    "print('He is called \"Johnny\"')"
   ]
  },
  {
   "cell_type": "code",
   "execution_count": 22,
   "id": "0d52eb20-3b44-4c92-80cf-e96af11f6d68",
   "metadata": {},
   "outputs": [
    {
     "name": "stdout",
     "output_type": "stream",
     "text": [
      "Lorem ipsum dolor sit amet,\n",
      "consectetur adipiscing elit,\n",
      "sed do eiusmod tempor incididunt\n",
      "ut labore et dolore magna aliqua.\n"
     ]
    }
   ],
   "source": [
    "#Multiline string with \"\"\"words\"\"\" or single quote\n",
    "a = \"\"\"Lorem ipsum dolor sit amet,\n",
    "consectetur adipiscing elit,\n",
    "sed do eiusmod tempor incididunt\n",
    "ut labore et dolore magna aliqua.\"\"\"\n",
    "print(a)"
   ]
  },
  {
   "cell_type": "code",
   "execution_count": 23,
   "id": "a1a818b1-063b-43ee-ada6-78d190b8037f",
   "metadata": {},
   "outputs": [
    {
     "name": "stdout",
     "output_type": "stream",
     "text": [
      ",\n",
      "13\n"
     ]
    }
   ],
   "source": [
    "#Strings are array.\n",
    "a = \"Hello, World!\"\n",
    "print(a[5]) #first character is 0 \n",
    "print(len(a))"
   ]
  },
  {
   "cell_type": "code",
   "execution_count": 24,
   "id": "6644b02a-f835-46ac-a54d-1ed21ff2e538",
   "metadata": {},
   "outputs": [
    {
     "name": "stdout",
     "output_type": "stream",
     "text": [
      "b\n",
      "a\n",
      "n\n",
      "a\n",
      "n\n",
      "a\n"
     ]
    }
   ],
   "source": [
    "#Looping through strings\n",
    "for x in \"banana\":\n",
    "  print(x)"
   ]
  },
  {
   "cell_type": "code",
   "execution_count": 25,
   "id": "f7746914-1443-4d5e-a652-f9912c386287",
   "metadata": {},
   "outputs": [
    {
     "name": "stdout",
     "output_type": "stream",
     "text": [
      "True\n",
      "False\n",
      "Yes, 'free' is present.\n",
      "No, 'paddu' is not present.\n"
     ]
    }
   ],
   "source": [
    "#To check is some word is present in any string, \n",
    "txt = \"The best things in life are free!\"\n",
    "print(\"free\" in txt)\n",
    "print(\"free\" not in txt)\n",
    "\n",
    "#Or if statement\n",
    "if \"free\" in txt:\n",
    "  print(\"Yes, 'free' is present.\")\n",
    "if \"paddu\" not in txt:\n",
    "  print(\"No, 'paddu' is not present.\")"
   ]
  },
  {
   "cell_type": "code",
   "execution_count": 26,
   "id": "c45cfc00-3fdc-443d-b132-99751d34b51b",
   "metadata": {},
   "outputs": [
    {
     "name": "stdout",
     "output_type": "stream",
     "text": [
      "llo\n",
      "Hello\n",
      "llo, World!\n"
     ]
    }
   ],
   "source": [
    "#Python slicing\n",
    "b = \"Hello, World!\"\n",
    "print(b[2:5])\n",
    "print(b[:5]) #prints from first till 5th\n",
    "print(b[2:]) #prints from 2nd till end"
   ]
  },
  {
   "cell_type": "code",
   "execution_count": 27,
   "id": "f4fe150a-1848-46a5-bedb-80c69d5b85de",
   "metadata": {},
   "outputs": [
    {
     "name": "stdout",
     "output_type": "stream",
     "text": [
      "orl\n"
     ]
    }
   ],
   "source": [
    "#Negative indexing: to start the slice from the end of the string\n",
    "b = \"Hello, World!\"\n",
    "print(b[-5:-2]) #TO NOTICE it is inclusive of -5 but not -2"
   ]
  },
  {
   "cell_type": "code",
   "execution_count": 28,
   "id": "d8753159-9620-4e5a-81ee-729946b4fb2e",
   "metadata": {},
   "outputs": [
    {
     "name": "stdout",
     "output_type": "stream",
     "text": [
      " HELLO, WORLD!\n",
      " hello, world!\n",
      "Hello, World!\n",
      " Jello, World!\n",
      "[' Hello', ' World!']\n"
     ]
    }
   ],
   "source": [
    "#Modify strings\n",
    "a = \" Hello, World!\"\n",
    "print(a.upper()) #all uppercase\n",
    "print(a.lower()) #all lowercase\n",
    "print(a.strip()) #whitespaces before and/or after the actual text\n",
    "print(a.replace(\"H\", \"J\")) #replaces\n",
    "print(a.split(\",\")) #splits into substrings if it finds a separator"
   ]
  },
  {
   "cell_type": "code",
   "execution_count": 29,
   "id": "e0677249-f53c-4571-a846-4d97cc99e9a3",
   "metadata": {},
   "outputs": [
    {
     "name": "stdout",
     "output_type": "stream",
     "text": [
      "Hello World\n"
     ]
    }
   ],
   "source": [
    "#String concatination\n",
    "a = \"Hello\"\n",
    "b = \"World\"\n",
    "c = a +\" \"+ b #\" \" to add space!!\n",
    "print(c)"
   ]
  },
  {
   "cell_type": "code",
   "execution_count": 30,
   "id": "335c2425-4f9b-4c4d-b41f-d75e6eda6876",
   "metadata": {},
   "outputs": [
    {
     "name": "stdout",
     "output_type": "stream",
     "text": [
      "My name is John, I am 36\n",
      "My name is John, I am 36.00\n",
      "My name is John, I am 15\n"
     ]
    }
   ],
   "source": [
    "# Strings and numbers can't be combined but can be done using\n",
    "# f-strings or format() method\n",
    "# Add f and {} for placeholder \n",
    "age = 36\n",
    "#txt = \"My name is John, I am \" + age\n",
    "#print(txt)\n",
    "\n",
    "txt = f\"My name is John, I am {age}\"\n",
    "print(txt)\n",
    "\n",
    "txt1 = f\"My name is John, I am {age:.2f}\" #MODIFIER: (:.2f) is a fixed point number with 2 decimal\n",
    "print(txt1)\n",
    "\n",
    "txt = f\"My name is John, I am {5+10}\" # It can also perform mathematicla operations\n",
    "print(txt)"
   ]
  },
  {
   "cell_type": "code",
   "execution_count": 31,
   "id": "302574c8-f769-42d7-a23e-9e2910f31bb1",
   "metadata": {},
   "outputs": [
    {
     "name": "stdout",
     "output_type": "stream",
     "text": [
      "We are the so-called \"Vikings\" from the north.\n"
     ]
    }
   ],
   "source": [
    "#To insert characters that are illegal in a string, use an escape character.\n",
    "#An escape character is a backslash \\ followed by the character you want to insert.\n",
    "\n",
    "#txt = \"We are the so-called \"Vikings\" from the north.\"\n",
    "txt = \"We are the so-called \\\"Vikings\\\" from the north.\"\n",
    "print(txt)\n",
    "\n",
    "#Other example: \\', \\\\, \\n, \\r, \\t, \\b, \\f, \\ooo, \\xhh"
   ]
  },
  {
   "cell_type": "code",
   "execution_count": 32,
   "id": "5645a193-c643-42b3-90f2-a9fc09c803eb",
   "metadata": {},
   "outputs": [
    {
     "name": "stdout",
     "output_type": "stream",
     "text": [
      "True\n",
      "True\n"
     ]
    }
   ],
   "source": [
    "#Boolean\n",
    "# Almost any value is evaluated to True if it has some sort of content.\n",
    "x = \"Hello\" \n",
    "y = 15\n",
    "\n",
    "print(bool(x)) #Any string is True, except empty strings.\n",
    "print(bool(y)) # Any number is True, except 0.\n",
    "#Any list, tuple, set, and dictionary are True, except empty ones."
   ]
  },
  {
   "cell_type": "code",
   "execution_count": 33,
   "id": "f4da4865-227a-4aa1-8694-635ad48e0355",
   "metadata": {},
   "outputs": [
    {
     "data": {
      "text/plain": [
       "False"
      ]
     },
     "execution_count": 33,
     "metadata": {},
     "output_type": "execute_result"
    }
   ],
   "source": [
    "#FALSE BOOLEANS\n",
    "bool(False)\n",
    "bool(None)\n",
    "bool(0)\n",
    "bool(\"\")\n",
    "bool(())\n",
    "bool([])\n",
    "bool({})"
   ]
  },
  {
   "cell_type": "code",
   "execution_count": 34,
   "id": "d3890b0e-6a66-47ab-9354-c95e4dd190f1",
   "metadata": {},
   "outputs": [
    {
     "name": "stdout",
     "output_type": "stream",
     "text": [
      "False\n"
     ]
    }
   ],
   "source": [
    "\"\"\"One more value, or object in this case, evaluates to False,\n",
    "and that is if you have an object that is made from a class with\n",
    "a __len__ function that returns 0 or False:\"\"\" \n",
    "class myclass():\n",
    "  def __len__(self):\n",
    "    return 0\n",
    "\n",
    "myobj = myclass()\n",
    "print(bool(myobj))"
   ]
  },
  {
   "cell_type": "code",
   "execution_count": 35,
   "id": "234677ac-b6e0-45b0-99c7-6fc56d4e1155",
   "metadata": {},
   "outputs": [
    {
     "name": "stdout",
     "output_type": "stream",
     "text": [
      "YES!\n"
     ]
    }
   ],
   "source": [
    "#Functions can also return bool\n",
    "def myFunction() :\n",
    "  return True\n",
    "\n",
    "if myFunction():\n",
    "  print(\"YES!\")\n",
    "else:\n",
    "  print(\"NO!\")"
   ]
  },
  {
   "cell_type": "code",
   "execution_count": 36,
   "id": "6dca5c46-2b12-43bd-85ec-68c2cf0efe6a",
   "metadata": {},
   "outputs": [
    {
     "name": "stdout",
     "output_type": "stream",
     "text": [
      "True\n"
     ]
    }
   ],
   "source": [
    "\"\"\"Python also has many built-in functions that return a boolean value,\n",
    "like the isinstance() function, which can be used to determine if an \n",
    "object is of a certain data type:\"\"\"\n",
    "x = 200\n",
    "print(isinstance(x, int))"
   ]
  },
  {
   "cell_type": "code",
   "execution_count": 37,
   "id": "121c4f5d-3115-4611-b27b-bc10a5431a4e",
   "metadata": {},
   "outputs": [
    {
     "name": "stdout",
     "output_type": "stream",
     "text": [
      "25\n",
      "3\n"
     ]
    }
   ],
   "source": [
    "#Arithematic operators: +, -, *, /, %, ** (exp), //(floor division)\n",
    "\n",
    "#Assignment operators: =, +=, -=, *=, /=, %=, //=, **=, &=, |=, ^=, >>=, <<=, :=\n",
    "x >>= 3\n",
    "print(x)\n",
    "print(x:=3) #x=3\n",
    "\n",
    "#Comparison Operator: ==, !=, >, <, >=, <=\n",
    "\n",
    "#Logical Operator: and, or, not\n",
    "\n",
    "#Identity Operator: is, is not (Identity operators are used to compare the objects, not if they are equal, but if they are actually the same object, with the same memory location:)\n",
    "\n",
    "#Membership Operator: in, not in (Membership operators are used to test if a sequence is presented in an object:)\n",
    "\n",
    "#Bitwise Operators: &, |, ^, ~, <<, >> (Bitwise operators are used to compare (binary) numbers:)\n",
    "#<<: Shift left by pushing zeros in from the right and let the leftmost bits fall off\n",
    "#>>: Shift right by pushing copies of the leftmost bit in from the left, and let the rightmost bits fall off"
   ]
  },
  {
   "cell_type": "code",
   "execution_count": 38,
   "id": "8de520b9-a7d5-4454-891e-239a6cacd817",
   "metadata": {},
   "outputs": [
    {
     "name": "stdout",
     "output_type": "stream",
     "text": [
      "0\n",
      "5\n"
     ]
    }
   ],
   "source": [
    "\"\"\"Order precedence \n",
    "()\tParentheses\t\n",
    "**\tExponentiation\t\n",
    "+x  -x  ~x\tUnary plus, unary minus, and bitwise NOT\t\n",
    "*  /  //  %\tMultiplication, division, floor division, and modulus\t\n",
    "+  -\tAddition and subtraction\t\n",
    "<<  >>\tBitwise left and right shifts\t\n",
    "&\tBitwise AND\t\n",
    "^\tBitwise XOR\t\n",
    "|\tBitwise OR\t\n",
    "==  !=  >  >=  <  <=  is  is not  in  not in \tComparisons, identity, and membership operators\t\n",
    "not\tLogical NOT\t\n",
    "and\tAND\t\n",
    "or\tOR\"\"\"\n",
    "print((6 + 3) - (6 + 3))\n",
    "print(5 + 4 - 7 + 3)"
   ]
  },
  {
   "cell_type": "code",
   "execution_count": 39,
   "id": "fc36062f-f849-495a-889c-bbd78814e063",
   "metadata": {},
   "outputs": [
    {
     "name": "stdout",
     "output_type": "stream",
     "text": [
      "['apple', 'banana', 'cherry']\n",
      "apple\n",
      "cherry\n",
      "3\n",
      "<class 'list'>\n",
      "['cherry', 'apple']\n",
      "['banana', 'cherry', 'apple']\n",
      "['apple', 'banana', 'cherry']\n",
      "Yes, 'apple' is in the fruits list\n",
      "apple\n",
      "banana\n",
      "cherry\n",
      "apple\n",
      "banana\n",
      "cherry\n",
      "apple\n",
      "banana\n",
      "cherry\n",
      "apple\n",
      "banana\n",
      "cherry\n"
     ]
    },
    {
     "data": {
      "text/plain": [
       "[None, None, None]"
      ]
     },
     "execution_count": 39,
     "metadata": {},
     "output_type": "execute_result"
    }
   ],
   "source": [
    " #LISTS: are used to store multiple items in a single variable\n",
    "#Lists are one of 4 built-in data  types. Others are: TUPLE, SET, and DICTIONARY\n",
    "#Lists are created using square brackets:\n",
    "\n",
    "thislist = [\"apple\", \"banana\", \"cherry\"]\n",
    "print(thislist)\n",
    "print(thislist[0])\n",
    "print(thislist[-1]) # NEgative indexing start from -1\n",
    "print(len(thislist)) #Length of list\n",
    "print(type(thislist)) #<class 'list'>\n",
    "\n",
    "# New item are added at the end of the list: ORDERED\n",
    "thislist = [\"apple\", \"banana\", \"cherry\", \"apple\", \"cherry\"] # allows duplicates\n",
    "print(thislist[2:4]) #Range of indexes.  The search will start at index 2 (included) and end at index 5 (not included).\n",
    "print(thislist[-4:-1]) #-4 is included but -1 is not included\n",
    "\n",
    "#List items can be of any data types, e.g.,\n",
    "list1 = [\"apple\", \"banana\", \"cherry\"]\n",
    "list2 = [1, 5, 7, 9, 3]\n",
    "list3 = [True, False, False]\n",
    "list1 = [\"abc\", 34, True, 40, \"male\"]\n",
    "\n",
    "#LIST constructor: list()\n",
    "thislist = list((\"apple\", \"banana\", \"cherry\")) # note the double round-brackets\n",
    "print(thislist)\n",
    "\n",
    "if \"apple\" in thislist:\n",
    "  print(\"Yes, 'apple' is in the fruits list\")\n",
    "\n",
    "thislist[1] = \"blackcurrant\" #change item in list\n",
    "thislist[1:3] = [\"blackcurrant\", \"watermelon\"] #change range of items\n",
    "#If you insert more/less items than you replace, the new items will be inserted where you specified, and the remaining items will move accordingly:\n",
    "\n",
    "thislist.insert(2, \"watermelon\") #insert new item\n",
    "thislist.append(\"orange\") # Appends at end of the list\n",
    "\n",
    "#To append elements from another list to the current list, use the extend() method.\n",
    "tropical = [\"mango\", \"pineapple\", \"papaya\"]\n",
    "thislist.extend(tropical)\n",
    "\n",
    "#The extend() method does not have to append lists, you can add any iterable object (tuples, sets, dictionaries etc.).\n",
    "thistuple = (\"kiwi\", \"orange\")\n",
    "thislist.extend(thistuple)\n",
    "\n",
    "thislist.remove(\"orange\") #To remove specifies items at its first occurrence only\n",
    "thislist.pop(1) #removes the specified index.\n",
    "thislist.pop() #If you do not specify the index, the pop() method removes the last item.\n",
    "\n",
    "del thislist[0] #The del keyword also removes the specified index:\n",
    "del thislist #deletes completely\n",
    "#thislist.clear() #empties the list. List remains but with no content\n",
    "\n",
    "#LOOP through a list\n",
    "thislist = [\"apple\", \"banana\", \"cherry\"]\n",
    "for x in thislist:\n",
    "  print(x)\n",
    "    \n",
    "#Loop through the index numbers\n",
    "for i in range(len(thislist)):\n",
    "  print(thislist[i])\n",
    "\n",
    "#Using a while loop\n",
    "i = 0\n",
    "while i < len(thislist):\n",
    "  print(thislist[i])\n",
    "  i = i + 1\n",
    "\n",
    "[print(x) for x in thislist] #A short hand for loop that will print all items in a list:"
   ]
  },
  {
   "cell_type": "code",
   "execution_count": 40,
   "id": "96905546-8f15-4038-86e8-5d842a094f12",
   "metadata": {},
   "outputs": [
    {
     "name": "stdout",
     "output_type": "stream",
     "text": [
      "['apple', 'banana', 'mango']\n",
      "['banana', 'cherry', 'kiwi', 'mango']\n",
      "['APPLE', 'BANANA', 'CHERRY', 'KIWI', 'MANGO']\n",
      "['apple', 'orange', 'cherry', 'kiwi', 'mango']\n",
      "['hello', 'hello', 'hello', 'hello', 'hello']\n",
      "['Banana', 'Mango', 'kiwi', 'orange', 'pineapple']\n",
      "['pineapple', 'orange', 'kiwi', 'Mango', 'Banana']\n",
      "['Banana', 'kiwi', 'Mango', 'orange', 'pineapple']\n",
      "['pineapple', 'orange', 'Mango', 'kiwi', 'Banana']\n",
      "['pineapple', 'orange', 'Mango', 'kiwi', 'Banana']\n",
      "['pineapple', 'orange', 'Mango', 'kiwi', 'Banana']\n",
      "['a', 'b', 'c', 1, 2, 3]\n",
      "['a', 'b', 'c', 1, 2, 3]\n",
      "['a', 'b', 'c', 1, 2, 3, 1, 2, 3]\n"
     ]
    }
   ],
   "source": [
    "#LIST CONTINUED...\n",
    "# list comprehension: offers a shorter syntax when you want to create a new list based on the values of an existing list.\n",
    "fruits = [\"apple\", \"banana\", \"cherry\", \"kiwi\", \"mango\"]\n",
    "newlist = []\n",
    "\n",
    "for x in fruits:\n",
    "  if \"a\" in x:\n",
    "    newlist.append(x)\n",
    "\n",
    "# OR\n",
    "newlist = [x for x in fruits if \"a\" in x]\n",
    " \n",
    "print(newlist)\n",
    "\n",
    "newlist = [x for x in fruits if x != \"apple\"]\n",
    "print(newlist)\n",
    "\n",
    "newlist = [x.upper() for x in fruits] #new list with upper case\n",
    "print(newlist)\n",
    "\n",
    "newlist = [x if x != \"banana\" else \"orange\" for x in fruits]\n",
    "print(newlist)\n",
    "\n",
    "newlist = ['hello' for x in fruits] #Set all values in the new list to 'hello':\n",
    "print(newlist)\n",
    "\n",
    "#capital letters being sorted before lower case letters:\n",
    "thislist = [\"orange\", \"Mango\", \"kiwi\", \"pineapple\", \"Banana\"]\n",
    "thislist.sort() #SOrts list alphanumerically, ascending by default\n",
    "print(thislist)\n",
    "thislist.sort(reverse = True) #Descending sorting\n",
    "print(thislist)\n",
    "\n",
    "# if you want a case-insensitive sort function, use str.lower as a key function:\n",
    "thislist.sort(key = str.lower)\n",
    "print(thislist)\n",
    "thislist.reverse() #reverses the current sorting order of the elements.\n",
    "print(thislist)\n",
    "\n",
    "#To copy lists\n",
    "mylist2 = thislist.copy()\n",
    "print(mylist2)\n",
    "#or\n",
    "mylist3 = list(thislist)\n",
    "print(mylist3)\n",
    "\n",
    "#To join lists\n",
    "list1 = [\"a\", \"b\", \"c\"]\n",
    "list2 = [1, 2, 3]\n",
    "\n",
    "list3 = list1 + list2\n",
    "print(list3)\n",
    "#or\n",
    "for x in list2:\n",
    "  list1.append(x)\n",
    "print(list1)\n",
    "#or\n",
    "list1.extend(list2)\n",
    "print(list1)"
   ]
  },
  {
   "cell_type": "code",
   "execution_count": 41,
   "id": "fd2ecffa-6b50-4864-9835-5048a7dfca0e",
   "metadata": {},
   "outputs": [
    {
     "data": {
      "text/plain": [
       "'LIST SUMMARY\\n\\nMethod\\tDescription\\nappend()\\tAdds an element at the end of the list\\nclear()\\t    Removes all the elements from the list\\ncopy()\\t    Returns a copy of the list\\ncount()\\t    Returns the number of elements with the specified value\\nextend()\\tAdd the elements of a list (or any iterable), to the end of the current list\\nindex()\\t    Returns the index of the first element with the specified value\\ninsert()\\tAdds an element at the specified position\\npop()\\t    Removes the element at the specified position\\nremove()\\tRemoves the item with the specified value\\nreverse()\\tReverses the order of the list\\nsort()\\t    Sorts the list'"
      ]
     },
     "execution_count": 41,
     "metadata": {},
     "output_type": "execute_result"
    }
   ],
   "source": [
    "'''LIST SUMMARY\n",
    "\n",
    "Method\tDescription\n",
    "append()\tAdds an element at the end of the list\n",
    "clear()\t    Removes all the elements from the list\n",
    "copy()\t    Returns a copy of the list\n",
    "count()\t    Returns the number of elements with the specified value\n",
    "extend()\tAdd the elements of a list (or any iterable), to the end of the current list\n",
    "index()\t    Returns the index of the first element with the specified value\n",
    "insert()\tAdds an element at the specified position\n",
    "pop()\t    Removes the element at the specified position\n",
    "remove()\tRemoves the item with the specified value\n",
    "reverse()\tReverses the order of the list\n",
    "sort()\t    Sorts the list'''"
   ]
  },
  {
   "cell_type": "code",
   "execution_count": 42,
   "id": "6551789c-dece-40ca-bce9-a4927157adb4",
   "metadata": {},
   "outputs": [
    {
     "name": "stdout",
     "output_type": "stream",
     "text": [
      "('apple', 'banana', 'cherry')\n",
      "3\n",
      "banana\n",
      "<class 'tuple'>\n",
      "('apple', 'banana', 'cherry')\n",
      "Yes, 'apple' is in the fruits tuple\n",
      "('apple', 'kiwi', 'cherry')\n",
      "('apple', 'banana', 'cherry', 'orange')\n",
      "apple\n",
      "banana\n",
      "cherry\n",
      "apple\n",
      "banana\n",
      "['cherry', 'strawberry', 'raspberry']\n",
      "apple\n",
      "['mango', 'papaya', 'pineapple']\n",
      "cherry\n",
      "apple\n",
      "banana\n",
      "cherry\n",
      "apple\n",
      "banana\n",
      "cherry\n",
      "apple\n",
      "banana\n",
      "cherry\n",
      "('apple', 'banana', 'cherry', 'apple', 'banana', 'cherry')\n"
     ]
    },
    {
     "data": {
      "text/plain": [
       "'count()\\tReturns the number of times a specified value occurs in a tuple\\nindex()\\tSearches the tuple for a specified value and returns the position of where it was found'"
      ]
     },
     "execution_count": 42,
     "metadata": {},
     "output_type": "execute_result"
    }
   ],
   "source": [
    " # TUPLES: used to store multiple items in a single variable with ().\n",
    "#A tuple is a collection which is ordered and unchangeable (we cannot change, add or remove items after the tuple has been created.)\n",
    "# Allows DUPLICATES, ORDERED, ITEM indexing starts from [0], Data type: any, \n",
    "\n",
    "thistuple = (\"apple\", \"banana\", \"cherry\")  ## THis is also called \"PACKING\" a tuple\n",
    "print(thistuple)\n",
    "print(len(thistuple))\n",
    "print(thistuple[1]) # allows negative indexing and also range \n",
    "\n",
    "#To create a tuple with only one item, you have to add a comma after the item, otherwise Python will not recognize it as a tuple.\n",
    "thistuple1 = (\"apple\",)\n",
    "\n",
    "tuple1 = (\"abc\", 34, True, 40, \"male\") #A tuple with strings, integers and boolean values:\n",
    "\n",
    "print(type(thistuple)) #<class 'tuple'>\n",
    "\n",
    "#TUPLE CONSTRUCTOR tuple()\n",
    "thistuple = tuple((\"apple\", \"banana\", \"cherry\")) # note the double round-brackets\n",
    "print(thistuple) \n",
    "\n",
    "if \"apple\" in thistuple:\n",
    "  print(\"Yes, 'apple' is in the fruits tuple\")\n",
    "\n",
    "# Tuples are unchangeable, or immutable. But Convert the tuple into a list to be able to change it:\n",
    "# CHANGE, .ADD, .REMOVE has to be converted in to list \n",
    "x = (\"apple\", \"banana\", \"cherry\")\n",
    "y = list(x)\n",
    "y[1] = \"kiwi\"\n",
    "x = tuple(y)\n",
    "print(x)\n",
    "\n",
    "# ADD TUPLE to TUPLE is allowed!!\n",
    "thistuple = (\"apple\", \"banana\", \"cherry\")\n",
    "y = (\"orange\",)\n",
    "thistuple += y\n",
    "print(thistuple)\n",
    "\n",
    "del thistuple #deletes completely and tuple no longer exists\n",
    "\n",
    "# UNPACKING A tuple\n",
    "fruits = (\"apple\", \"banana\", \"cherry\")\n",
    "(green, yellow, red) = fruits\n",
    "print(green), print(yellow), print(red)\n",
    "\n",
    "fruits = (\"apple\", \"banana\", \"cherry\", \"strawberry\", \"raspberry\")\n",
    "(green, yellow, *red) = fruits\n",
    "print(green), print(yellow), print(red)\n",
    "\n",
    "fruits = (\"apple\", \"mango\", \"papaya\", \"pineapple\", \"cherry\")\n",
    "(green, *tropic, red) = fruits\n",
    "print(green), print(tropic), print(red)\n",
    "\n",
    "#LOOP through tuple\n",
    "thistuple = (\"apple\", \"banana\", \"cherry\")\n",
    "for x in thistuple:\n",
    "  print(x)\n",
    "\n",
    "#Loop Through the Index Numbers\n",
    "for i in range(len(thistuple)):\n",
    "  print(thistuple[i])\n",
    "\n",
    "#WHILE loop\n",
    "i = 0\n",
    "while i < len(thistuple):\n",
    "  print(thistuple[i])\n",
    "  i = i + 1\n",
    "\n",
    "#tuple3 = tuple1 + tuple2 JOIN 2 tuples\n",
    "\n",
    "fruits = (\"apple\", \"banana\", \"cherry\")\n",
    "mytuple1 = fruits * 2 #Multiply the fruits tuple by 2\n",
    "print(mytuple1)\n",
    "\n",
    "'''count()\tReturns the number of times a specified value occurs in a tuple\n",
    "index()\tSearches the tuple for a specified value and returns the position of where it was found'''"
   ]
  },
  {
   "cell_type": "code",
   "execution_count": 43,
   "id": "1301108b-b027-4cdc-b7f1-145c909bb98e",
   "metadata": {},
   "outputs": [
    {
     "name": "stdout",
     "output_type": "stream",
     "text": [
      "{'cherry', 'apple', 'banana'}\n",
      "{True, 2, 'banana', 'apple', 'cherry'}\n",
      "<class 'set'>\n",
      "{'cherry', 'banana', 'apple'}\n",
      "True\n",
      "False\n",
      "{'cherry', 'orange'}\n",
      "{'papaya', 'banana', 'apple', 'pineapple', 'mango', 'cherry'}\n",
      "{'papaya', 'apple', 'pineapple', 'mango', 'cherry'}\n",
      "{'b', 'c', 1, 2, 3, 'a'}\n"
     ]
    }
   ],
   "source": [
    "# SETS: collection which is unordered, unchangeable*, and unindexed. {}\n",
    "# NO DUPLICATE VALUES ALLOWED, NO defined order, you cannot change its items, but you can remove items and add new items.\n",
    "thisset = {\"apple\", \"banana\", \"cherry\",\"apple\"}\n",
    "print(thisset)\n",
    "\n",
    "thisset = {\"apple\", \"banana\", \"cherry\", True, 1, 2} #True and 1 is considered the same value. Similarly False and 0\n",
    "print(thisset)\n",
    "print(type(thisset)) #<class 'set'>\n",
    "\n",
    "thisset = set((\"apple\", \"banana\", \"cherry\")) # note the double round-brackets\n",
    "print(thisset)\n",
    "\n",
    "print(\"banana\" in thisset)\n",
    "print(\"banana\" not in thisset)\n",
    "\n",
    "thisset.add(\"orange\") #ADD item\n",
    "thisset.remove(\"banana\") # REMOVE item\n",
    "thisset.discard(\"apple\")\n",
    "print(thisset)\n",
    "\n",
    "#ADD sets\n",
    "thisset = {\"apple\", \"banana\", \"cherry\"}\n",
    "tropical = {\"pineapple\", \"mango\", \"papaya\"} # this can be () or [] or {}\n",
    "thisset.update(tropical)\n",
    "print(thisset)\n",
    "\n",
    "thisset.discard(\"banana\")\n",
    "print(thisset)\n",
    "x = thisset.pop() #Remove a random item by using the pop() method:\n",
    "thisset.clear() # Empties the set\n",
    "del thisset #Deletes the set completely\n",
    "\n",
    "'''Join Sets\n",
    "There are several ways to join two or more sets in Python.\n",
    "\n",
    "The union() and update() methods joins all items from both sets.\n",
    "\n",
    "The intersection() method keeps ONLY the duplicates.\n",
    "\n",
    "The difference() method keeps the items from the first set that are not in the other set(s).\n",
    "\n",
    "The symmetric_difference() method keeps all items EXCEPT the duplicates.\n",
    "\n",
    "'''\n",
    "set1 = {\"a\", \"b\", \"c\"}\n",
    "set2 = {1, 2, 3}\n",
    "\n",
    "set3 = set1.union(set2) #or set3 = set1 | set2 (With OR Operator)\n",
    "#myset = set1.union(set2, set3, set4) # to join multiple sets or myset = set1 | set2 | set3 |set4\n",
    "print(set3)\n",
    "\n",
    "#Note: The  | operator only allows you to join sets with sets, and not with other data types like you can with the  union() method.\n",
    "\n",
    "set1.update(set2) #inserts all items from one set into another. It  changes the original set, and does not return a new set.\n",
    "set3 = set1.intersection(set2) #or set3 = set1 & set2 #Will return a new set, that only contains the items that are present in both sets.\n",
    "#Note: The & operator only allows you to join sets with sets, and not with other data types like you can with the intersection() method.\n",
    "\n",
    "#The intersection_update() method will also keep ONLY the duplicates, but it will change the original set instead of returning a new set.\n",
    "set1.intersection_update(set2)\n",
    "\n",
    "#The difference() method will return a new set that will contain only the items from the first set that are not present in the other set.\n",
    "set3 = set1.difference(set2) #or set3 = set1 - set2\n",
    "\n",
    "#The difference_update() method will also keep the items from the first set that are not in the other set, but it will change the original set instead of returning a new set.\n",
    "set1.difference_update(set2)\n",
    "\n",
    "#The symmetric_difference() method will keep only the elements that are NOT present in both sets.\n",
    "set3 = set1.symmetric_difference(set2) #or set3 = set1 ^ set2\n",
    "\n",
    "#The symmetric_difference_update() method will also keep all but the duplicates, but it will change the original set instead of returning a new set.\n",
    "set1.symmetric_difference_update(set2)"
   ]
  },
  {
   "cell_type": "code",
   "execution_count": 49,
   "id": "8f412ed9-6b4e-43a5-b104-208a435b8db0",
   "metadata": {},
   "outputs": [
    {
     "data": {
      "text/plain": [
       "'\\nMethod\\tShortcut\\tDescription\\nadd()\\t \\tAdds an element to the set\\nclear()\\t \\tRemoves all the elements from the set\\ncopy()\\t \\tReturns a copy of the set\\ndifference()\\t-\\tReturns a set containing the difference between two or more sets\\ndifference_update()\\t-=\\tRemoves the items in this set that are also included in another, specified set\\ndiscard()\\t \\tRemove the specified item\\nintersection()\\t&\\tReturns a set, that is the intersection of two other sets\\nintersection_update()\\t&=\\tRemoves the items in this set that are not present in other, specified set(s)\\nisdisjoint()\\t \\tReturns whether two sets have a intersection or not\\nissubset()\\t<=\\tReturns whether another set contains this set or not\\n \\t<\\tReturns whether all items in this set is present in other, specified set(s)\\nissuperset()\\t>=\\tReturns whether this set contains another set or not\\n \\t>\\tReturns whether all items in other, specified set(s) is present in this set\\npop()\\t \\tRemoves an element from the set\\nremove()\\t \\tRemoves the specified element\\nsymmetric_difference()\\t^\\tReturns a set with the symmetric differences of two sets\\nsymmetric_difference_update()\\t^=\\tInserts the symmetric differences from this set and another\\nunion()\\t|\\tReturn a set containing the union of sets\\nupdate()\\t|=\\tUpdate the set with the union of this set and others\\n'"
      ]
     },
     "execution_count": 49,
     "metadata": {},
     "output_type": "execute_result"
    }
   ],
   "source": [
    "#SET SUMMARY\n",
    "'''\n",
    "Method\tShortcut\tDescription\n",
    "add()\t \tAdds an element to the set\n",
    "clear()\t \tRemoves all the elements from the set\n",
    "copy()\t \tReturns a copy of the set\n",
    "difference()\t-\tReturns a set containing the difference between two or more sets\n",
    "difference_update()\t-=\tRemoves the items in this set that are also included in another, specified set\n",
    "discard()\t \tRemove the specified item\n",
    "intersection()\t&\tReturns a set, that is the intersection of two other sets\n",
    "intersection_update()\t&=\tRemoves the items in this set that are not present in other, specified set(s)\n",
    "isdisjoint()\t \tReturns whether two sets have a intersection or not\n",
    "issubset()\t<=\tReturns whether another set contains this set or not\n",
    " \t<\tReturns whether all items in this set is present in other, specified set(s)\n",
    "issuperset()\t>=\tReturns whether this set contains another set or not\n",
    " \t>\tReturns whether all items in other, specified set(s) is present in this set\n",
    "pop()\t \tRemoves an element from the set\n",
    "remove()\t \tRemoves the specified element\n",
    "symmetric_difference()\t^\tReturns a set with the symmetric differences of two sets\n",
    "symmetric_difference_update()\t^=\tInserts the symmetric differences from this set and another\n",
    "union()\t|\tReturn a set containing the union of sets\n",
    "update()\t|=\tUpdate the set with the union of this set and others\n",
    "'''"
   ]
  },
  {
   "cell_type": "code",
   "execution_count": 73,
   "id": "f1235f2a-4d2e-4a7f-8908-91019051afeb",
   "metadata": {},
   "outputs": [
    {
     "name": "stdout",
     "output_type": "stream",
     "text": [
      "{'brand': 'Ford', 'model': 'Mustang', 'year': 1964}\n",
      "3\n",
      "Ford\n",
      "Mustang\n",
      "{'brand': 'Ford', 'electric': False, 'year': 1964, 'colors': ['red', 'white', 'blue']}\n",
      "<class 'dict'>\n",
      "{'name': 'John', 'age': 36, 'country': 'Norway'}\n",
      "dict_keys(['name', 'age', 'country'])\n",
      "dict_keys(['name', 'age', 'country', 'color'])\n",
      "dict_values(['John', 36, 'Norway', 'white'])\n",
      "dict_values(['John', 18, 'Norway', 'white'])\n",
      "dict_items([('name', 'John'), ('age', 18), ('country', 'Norway'), ('color', 'white')])\n",
      "dict_items([('name', 'John'), ('age', 18), ('country', 'Norway'), ('color', 'red')])\n",
      "Yes, 'age' is one of the keys in the thisdict dictionary\n",
      "{'brand': 'Ford', 'model': 'Mustang', 'year': 1964}\n",
      "{'brand': 'Ford', 'model': 'Mustang', 'year': 2020}\n",
      "{'brand': 'Ford', 'model': 'Mustang', 'year': 2020, 'color': 'red'}\n",
      "{'brand': 'Ford', 'year': 2020, 'color': 'red'}\n",
      "{'brand': 'Ford', 'year': 2020}\n",
      "{'year': 2020}\n",
      "{}\n",
      "{'brand': 'Ford', 'model': 'Mustang', 'year': 1964}\n"
     ]
    }
   ],
   "source": [
    "# DICTIONARIESSS\n",
    "#Dictionaries are used to store data values in key:value pairs.\n",
    "#A dictionary is a collection which is ordered* (from python version 3.7), changeable and do not allow duplicates.\n",
    "thisdict = {\n",
    "  \"brand\": \"Ford\",\n",
    "  \"model\": \"Mustang\",\n",
    "  \"year\": 1964\n",
    "    #  \"year\": 2020 NOT allowed: DUPLICATES\n",
    "}\n",
    "print(thisdict)\n",
    "print(len(thisdict))\n",
    "\n",
    "print(thisdict[\"brand\"])  #accessing items\n",
    "x = thisdict.get(\"model\") #accessing items\n",
    "print(x)\n",
    "\n",
    "thisdict = {  #Data types can be string, int, boolean and list data types\n",
    "  \"brand\": \"Ford\",\n",
    "  \"electric\": False,\n",
    "  \"year\": 1964,\n",
    "  \"colors\": [\"red\", \"white\", \"blue\"]\n",
    "}\n",
    "print(thisdict)\n",
    "print(type(thisdict)) #<class 'dict'>\n",
    "\n",
    "#dict() CONSTRUCTOR with key-value pairs\n",
    "thisdict = dict(name = \"John\", age = 36, country = \"Norway\")\n",
    "print(thisdict)\n",
    "\n",
    "x = thisdict.keys()\n",
    "print(x)\n",
    "thisdict[\"color\"] = \"white\" #Add a new item to the original dictionary,\n",
    "print(x)\n",
    "\n",
    "x = thisdict.values()\n",
    "print(x)\n",
    "thisdict[\"age\"] = 18 #Make a change in the original dictionary\n",
    "print(x)\n",
    "\n",
    "x = thisdict.items() #Get a list of the key:value pairs\n",
    "print(x)\n",
    "thisdict[\"color\"] = \"red\" #Make a change in the original dictionary or add an item\n",
    "print(x)\n",
    "\n",
    "if \"age\" in thisdict:\n",
    "  print(\"Yes, 'age' is one of the keys in the thisdict dictionary\")\n",
    "\n",
    "thisdict = {\n",
    "  \"brand\": \"Ford\",\n",
    "  \"model\": \"Mustang\",\n",
    "  \"year\": 1964\n",
    "}\n",
    "print(thisdict)\n",
    "thisdict.update({\"year\": 2020}) #change\n",
    "print(thisdict)\n",
    "thisdict.update({\"color\": \"red\"}) #add new item\n",
    "print(thisdict)\n",
    "\n",
    "thisdict.pop(\"model\") #remove\n",
    "print(thisdict)\n",
    "thisdict.popitem() # removes the last inserted item\n",
    "print(thisdict)\n",
    "del thisdict[\"brand\"] #removes the item with the specified key name:\n",
    "print(thisdict)\n",
    "\n",
    "thisdict.clear() #empties the dictionary\n",
    "print(thisdict)\n",
    "\n",
    "del thisdict\n",
    "#print(thisdict) #this will cause an error because \"thisdict\" no longer exists.\n",
    "\n",
    "''' Loop through a dictionary\n",
    "for x in thisdict:\n",
    "  print(x)\n",
    "  print(thisdict[x])\n",
    "for x in thisdict.values(): \n",
    "  print(x)\n",
    "for x in thisdict.keys():  \n",
    "for x, y in thisdict.items():'''\n",
    "\n",
    "thisdict = {\n",
    "  \"brand\": \"Ford\",\n",
    "  \"model\": \"Mustang\",\n",
    "  \"year\": 1964\n",
    "}\n",
    "mydict = thisdict.copy()\n",
    "print(mydict)\n",
    "mydict = dict(thisdict)\n",
    "print(mydict)"
   ]
  },
  {
   "cell_type": "code",
   "execution_count": 80,
   "id": "10063184-3b5b-4c48-868a-b5b4597ca422",
   "metadata": {},
   "outputs": [
    {
     "name": "stdout",
     "output_type": "stream",
     "text": [
      "{'child1': {'name': 'Emil', 'year': 2004}, 'child2': {'name': 'Tobias', 'year': 2007}, 'child3': {'name': 'Linus', 'year': 2011}}\n",
      "{'child1': {'name': 'Emil', 'year': 2004}, 'child2': {'name': 'Tobias', 'year': 2007}, 'child3': {'name': 'Linus', 'year': 2011}}\n",
      "Tobias\n",
      "child1\n",
      "name: Emil\n",
      "year: 2004\n",
      "child2\n",
      "name: Tobias\n",
      "year: 2007\n",
      "child3\n",
      "name: Linus\n",
      "year: 2011\n"
     ]
    },
    {
     "data": {
      "text/plain": [
       "\"\\nMethod\\tDescription\\nclear()\\tRemoves all the elements from the dictionary\\ncopy()\\tReturns a copy of the dictionary\\nfromkeys()\\tReturns a dictionary with the specified keys and value\\nget()\\tReturns the value of the specified key\\nitems()\\tReturns a list containing a tuple for each key value pair\\nkeys()\\tReturns a list containing the dictionary's keys\\npop()\\tRemoves the element with the specified key\\npopitem()\\tRemoves the last inserted key-value pair\\nsetdefault()\\tReturns the value of the specified key. If the key does not exist: insert the key, with the specified value\\nupdate()\\tUpdates the dictionary with the specified key-value pairs\\nvalues()\\tReturns a list of all the values in the dictionary \""
      ]
     },
     "execution_count": 80,
     "metadata": {},
     "output_type": "execute_result"
    }
   ],
   "source": [
    "# NESTED DICTIONARIES\n",
    "myfamily = {\n",
    "  \"child1\" : {\n",
    "    \"name\" : \"Emil\",\n",
    "    \"year\" : 2004\n",
    "  },\n",
    "  \"child2\" : {\n",
    "    \"name\" : \"Tobias\",\n",
    "    \"year\" : 2007\n",
    "  },\n",
    "  \"child3\" : {\n",
    "    \"name\" : \"Linus\",\n",
    "    \"year\" : 2011\n",
    "  }\n",
    "}\n",
    "print(myfamily)\n",
    "#OR\n",
    "child1 = {\n",
    "  \"name\" : \"Emil\",\n",
    "  \"year\" : 2004\n",
    "}\n",
    "child2 = {\n",
    "  \"name\" : \"Tobias\",\n",
    "  \"year\" : 2007\n",
    "}\n",
    "child3 = {\n",
    "  \"name\" : \"Linus\",\n",
    "  \"year\" : 2011\n",
    "}\n",
    "\n",
    "myfamily = {\n",
    "  \"child1\" : child1,\n",
    "  \"child2\" : child2,\n",
    "  \"child3\" : child3\n",
    "}\n",
    "print(myfamily)\n",
    "print(myfamily[\"child2\"][\"name\"])\n",
    "\n",
    "#LOOP through nested dictionaries\n",
    "for x, obj in myfamily.items():\n",
    "  print(x)\n",
    "\n",
    "  for y in obj:\n",
    "    print(y + ':', obj[y])\n",
    "\n",
    "'''\n",
    "Method\tDescription\n",
    "clear()\tRemoves all the elements from the dictionary\n",
    "copy()\tReturns a copy of the dictionary\n",
    "fromkeys()\tReturns a dictionary with the specified keys and value\n",
    "get()\tReturns the value of the specified key\n",
    "items()\tReturns a list containing a tuple for each key value pair\n",
    "keys()\tReturns a list containing the dictionary's keys\n",
    "pop()\tRemoves the element with the specified key\n",
    "popitem()\tRemoves the last inserted key-value pair\n",
    "setdefault()\tReturns the value of the specified key. If the key does not exist: insert the key, with the specified value\n",
    "update()\tUpdates the dictionary with the specified key-value pairs\n",
    "values()\tReturns a list of all the values in the dictionary '''"
   ]
  },
  {
   "cell_type": "code",
   "execution_count": 93,
   "id": "dedf425a-7f6d-44bc-a7cb-2db518185904",
   "metadata": {},
   "outputs": [
    {
     "name": "stdout",
     "output_type": "stream",
     "text": [
      "a is greater than b\n",
      "a is greater than b\n",
      "A\n",
      "A\n",
      "Both conditions are True\n",
      "At least one of the conditions is True\n",
      "b is NOT greater than a\n",
      "Above ten,\n",
      "and also above 20!\n"
     ]
    }
   ],
   "source": [
    "# IF.... ELSE \n",
    "'''\n",
    "Equals: a == b\n",
    "Not Equals: a != b\n",
    "Less than: a < b\n",
    "Less than or equal to: a <= b\n",
    "Greater than: a > b\n",
    "Greater than or equal to: a >= b'''\n",
    "a = 200\n",
    "b = 20\n",
    "if b > a:\n",
    "  print(\"b is greater than a\")\n",
    "elif a == b: #\"if the previous conditions were not true, then try this condition\".\n",
    "  print(\"a and b are equal\")\n",
    "else: #catches anything which isn't caught by the preceding conditions.\n",
    "  print(\"a is greater than b\")\n",
    "\n",
    "#Short hand if\n",
    "if a > b: print(\"a is greater than b\")\n",
    "    \n",
    "#Short hand if else statements\n",
    "print(\"A\") if a > b else print(\"B\") #This technique is known as Ternary Operators, or Conditional Expressions.\n",
    "\n",
    "print(\"A\") if a > b else print(\"=\") if a == b else print(\"B\")\n",
    "\n",
    "#LOGICAL OPERATORS\n",
    "a = 200\n",
    "b = 33\n",
    "c = 500\n",
    "if a > b and c > a: #AND operator to combine conditional statements\n",
    "  print(\"Both conditions are True\")\n",
    "if a > b or a > c: #OR Logical operator\n",
    "  print(\"At least one of the conditions is True\")\n",
    "if not b > a:\n",
    "  print(\"b is NOT greater than a\")\n",
    "\n",
    "#NESTED IF\n",
    "x = 41\n",
    "\n",
    "if x > 10:\n",
    "  print(\"Above ten,\")\n",
    "  if x > 20:\n",
    "    print(\"and also above 20!\")\n",
    "  else:\n",
    "    print(\"but not above 20.\")\n",
    "\n",
    "if b > a:\n",
    "  pass #if statements cannot be empty, but if you for some reason have an if statement with no content, put in the pass statement to avoid getting an error."
   ]
  },
  {
   "cell_type": "code",
   "execution_count": 103,
   "id": "799bb166-4831-44a9-83e9-ed33816810bc",
   "metadata": {},
   "outputs": [
    {
     "name": "stdout",
     "output_type": "stream",
     "text": [
      "1\n",
      "2\n",
      "3\n",
      "4\n",
      "5\n",
      "1\n",
      "2\n",
      "3\n",
      "1\n",
      "2\n",
      "4\n",
      "5\n",
      "6\n",
      "1\n",
      "2\n",
      "3\n",
      "4\n",
      "5\n",
      "i is no longer less than 6\n"
     ]
    }
   ],
   "source": [
    "'''Python has two primitive loop commands:\n",
    "while loops\n",
    "for loops'''\n",
    "\n",
    "# WHILE LOOPS\n",
    "i = 1\n",
    "while i < 6:\n",
    "  print(i)\n",
    "  i += 1 #Note: remember to increment i, or else the loop will continue forever.\n",
    "\n",
    "i = 1\n",
    "while i < 6:\n",
    "  print(i)\n",
    "  if i == 3:\n",
    "    break #we can stop the loop even if the while condition is true:\n",
    "  i += 1\n",
    "\n",
    "i = 0\n",
    "while i < 6:\n",
    "  i += 1\n",
    "  if i == 3:\n",
    "    continue #we can stop the current iteration, and continue with the next\n",
    "  print(i)\n",
    "\n",
    "i = 1\n",
    "while i < 6:\n",
    "  print(i)\n",
    "  i += 1\n",
    "else: #we can run a block of code once when the condition no longer is true\n",
    "  print(\"i is no longer less than 6\")\n"
   ]
  },
  {
   "cell_type": "code",
   "execution_count": 120,
   "id": "d26ea4f0-59fa-46d4-9407-d56cf37ec754",
   "metadata": {},
   "outputs": [
    {
     "name": "stdout",
     "output_type": "stream",
     "text": [
      "apple\n",
      "banana\n",
      "cherry\n",
      "b\n",
      "a\n",
      "n\n",
      "a\n",
      "n\n",
      "a\n",
      "apple\n",
      "banana\n",
      "apple\n",
      "apple\n",
      "cherry\n",
      "0\n",
      "1\n",
      "2\n",
      "1\n",
      "2\n",
      "2\n",
      "5\n",
      "8\n",
      "11\n",
      "14\n",
      "0\n",
      "1\n",
      "2\n",
      "Finally finished!\n",
      "0\n",
      "1\n",
      "2\n",
      "red apple\n",
      "red banana\n",
      "big apple\n",
      "big banana\n"
     ]
    }
   ],
   "source": [
    "'''FOR LOOP \n",
    "A for loop is used for iterating over a sequence (that is either a list, a tuple, a dictionary, a set, or a string).\n",
    "This is less like the for keyword in other programming languages, and works more like an iterator method as found in other object-orientated programming languages.\n",
    "'''\n",
    "fruits = [\"apple\", \"banana\", \"cherry\"]\n",
    "for x in fruits:\n",
    "  print(x)\n",
    "for x in \"banana\": # LOOP through string\n",
    "  print(x)\n",
    "\n",
    "fruits = [\"apple\", \"banana\", \"cherry\"]\n",
    "for x in fruits:\n",
    "  print(x)\n",
    "  if x == \"banana\":\n",
    "    break #Exit the loop when x is \"banana\":\n",
    "\n",
    "fruits = [\"apple\", \"banana\", \"cherry\"]\n",
    "for x in fruits:\n",
    "  if x == \"banana\":\n",
    "    break #Exit the loop when x is \"banana\", but this time the break comes before the print:\n",
    "  print(x)\n",
    "\n",
    "for x in fruits:\n",
    "  if x == \"banana\":\n",
    "    continue\n",
    "  print(x)\n",
    "\n",
    "''' To loop through a set of code a specified number of times, we can use the range() function,\n",
    "The range() function returns a sequence of numbers, starting from 0 by default, and increments by 1 (by default), and ends at a specified number.'''\n",
    "for x in range(3):\n",
    "  print(x)\n",
    "for x in range(1, 3): #2 included but 6 not included\n",
    "  print(x)\n",
    "\n",
    "for x in range(2, 15, 3): #Increment the sequence with 3 (default is 1):\n",
    "  print(x)\n",
    "\n",
    "for x in range(3):\n",
    "  print(x)\n",
    "else: #The else keyword in a for loop specifies a block of code to be executed when the loop is finished:\n",
    "  print(\"Finally finished!\")\n",
    "\n",
    "for x in range(4):\n",
    "  if x == 3: break\n",
    "  print(x)\n",
    "else: #The else block will NOT be executed if the loop is stopped by a break statement.\n",
    "  print(\"Finally finished!\")\n",
    "\n",
    "#NESTED LOOP: loop inside a loop.\n",
    "#The \"inner loop\" will be executed one time for each iteration of the \"outer loop\":\n",
    "\n",
    "adj = [\"red\", \"big\"]\n",
    "fruits = [\"apple\", \"banana\"]\n",
    "for x in adj:\n",
    "  for y in fruits:\n",
    "    print(x, y)\n",
    "\n",
    "for x in [0, 1, 2]:\n",
    "  pass #for loops cannot be empty, but if you for some reason have a for loop with no content, put in the pass statement to avoid getting an error."
   ]
  },
  {
   "cell_type": "code",
   "execution_count": 141,
   "id": "60886381-2fca-43d1-9979-cb622c0dcf07",
   "metadata": {},
   "outputs": [
    {
     "name": "stdout",
     "output_type": "stream",
     "text": [
      "Hello from a function\n",
      "Emil Refsnes\n",
      "Emil Refsnes\n",
      "The youngest child is Linus\n",
      "The youngest child is Linus\n",
      "His last name is Refsnes\n",
      "I am from India\n",
      "I am from Norway\n",
      "15\n",
      "3\n",
      "4\n",
      "26\n",
      "\n",
      "\n",
      "Recursion Example Results\n",
      "1\n",
      "3\n",
      "6\n",
      "10\n",
      "15\n",
      "21\n"
     ]
    },
    {
     "data": {
      "text/plain": [
       "21"
      ]
     },
     "execution_count": 141,
     "metadata": {},
     "output_type": "execute_result"
    }
   ],
   "source": [
    "''' FUNCTIONS\n",
    "A function is a block of code which only runs when it is called.\n",
    "You can pass data, known as parameters, into a function. A function can return data as a result.\n",
    "From a function's perspective:\n",
    "A parameter is the variable listed inside the parentheses in the function definition.\n",
    "An argument is the value that is sent to the function when it is called.'''\n",
    "\n",
    "def my_function():\n",
    "  print(\"Hello from a function\")\n",
    "my_function()\n",
    "\n",
    "#Arguments(args) are specified after the function name, inside the parentheses. You can add as many arguments as you want, just separate them with a comma.\n",
    "def my_function(fname):\n",
    "  print(fname + \" Refsnes\")\n",
    "my_function(\"Emil\")\n",
    "\n",
    "def my_function(fname, lname):\n",
    "  print(fname + \" \" + lname)\n",
    "my_function(\"Emil\", \"Refsnes\") #if your function expects 2 arguments, you have to call the function with 2 arguments, not more, and not less.\n",
    "\n",
    "'''Arbitrary Arguments, *args\n",
    "If you do not know how many arguments that will be passed into your function, add a * before the parameter name in the function definition.\n",
    "This way the function will receive a tuple of arguments, and can access the items accordingly:'''\n",
    "def my_function(*kids):\n",
    "  print(\"The youngest child is \" + kids[2])\n",
    "my_function(\"Emil\", \"Tobias\", \"Linus\")\n",
    "\n",
    "'''Keyword Arguments (kwargs)\n",
    "You can also send arguments with the key = value syntax. This way the order of the arguments does not matter.'''\n",
    "def my_function(child3, child2, child1):\n",
    "  print(\"The youngest child is \" + child3)\n",
    "my_function(child1 = \"Emil\", child2 = \"Tobias\", child3 = \"Linus\")\n",
    "\n",
    "'''Arbitrary Keyword Arguments, **kwargs\n",
    "If you do not know how many keyword arguments that will be passed into your function, add two asterisk: ** before the parameter name in the function definition.\n",
    "This way the function will receive a dictionary of arguments, and can access the items accordingly:'''\n",
    "def my_function(**kid):\n",
    "  print(\"His last name is \" + kid[\"lname\"])\n",
    "my_function(fname = \"Tobias\", lname = \"Refsnes\")\n",
    "\n",
    "'''Default Parameter Value'''\n",
    "def my_function(country = \"Norway\"):\n",
    "  print(\"I am from \" + country)\n",
    "my_function(\"India\")\n",
    "my_function()\n",
    "\n",
    "def my_function(x):\n",
    "  return 5 * x\n",
    "print(my_function(3))\n",
    "\n",
    "'''Positional-Only Arguments\n",
    "You can specify that a function can have ONLY positional arguments, or ONLY keyword arguments. To specify that a function can have only positional arguments, add , / after the arguments:'''\n",
    "def my_function(x, /):\n",
    "  print(x)\n",
    "my_function(3) #can't have my_function(x=3)\n",
    "\n",
    "'''Keyword-Only Arguments: To specify that a function can have only keyword arguments, add *, before the arguments:'''\n",
    "def my_function(*, x):\n",
    "  print(x)\n",
    "my_function(x = 4) #can't have  my_function(4)\n",
    "\n",
    "'''Combine Positional-Only and Keyword-Only\n",
    "You can combine the two argument types in the same function. Any argument before the / , are positional-only, and any argument after the *, are keyword-only.'''\n",
    "def my_function(a, b, /, *, c, d):\n",
    "  print(a + b + c + d)\n",
    "my_function(5, 6, c = 7, d = 8)\n",
    "\n",
    "'''Recursion\n",
    "Python also accepts function recursion, which means a defined function can call itself. This has the benefit of meaning that you can loop through data to reach a result.\n",
    "The developer should be very careful with recursion as it can be quite easy to slip into writing a function which never terminates, or one that uses excess amounts of memory or processor power.'''\n",
    "def tri_recursion(k):\n",
    "  if(k > 0):\n",
    "    result = k + tri_recursion(k - 1)\n",
    "    print(result)\n",
    "  else:\n",
    "    result = 0\n",
    "  return result\n",
    "\n",
    "print(\"\\n\\nRecursion Example Results\")\n",
    "tri_recursion(6)"
   ]
  },
  {
   "cell_type": "code",
   "execution_count": 149,
   "id": "2a04b30a-8606-46fb-bd31-c705ac9a95c5",
   "metadata": {},
   "outputs": [
    {
     "name": "stdout",
     "output_type": "stream",
     "text": [
      "15\n",
      "30\n",
      "22\n"
     ]
    }
   ],
   "source": [
    "'''A lambda function is a small anonymous function. It can take any number of arguments, but can only have one expression.\n",
    "Syntax: lambda arguments : expression'''\n",
    "x = lambda a : a + 10\n",
    "print(x(5))\n",
    "\n",
    "x = lambda a, b : a * b\n",
    "print(x(5, 6))\n",
    "\n",
    "def myfunc(n):\n",
    "  return lambda a : a * n\n",
    "mydoubler = myfunc(2) #3 for tripler\n",
    "print(mydoubler(11))"
   ]
  },
  {
   "cell_type": "code",
   "execution_count": null,
   "id": "e1b12f0b-0905-40c4-9a15-ea7250bc4e55",
   "metadata": {},
   "outputs": [],
   "source": [
    "'''ARRAYS: Python does not have built-in support for Arrays, but Python Lists can be used instead. to work with arrays in Python you will have to import a library, like the NumPy library.\n",
    "An array can hold many values under a single name, and you can access the values by referring to an index number. Arrays are used to store multiple values in one single variable:'''\n",
    "cars = [\"Ford\", \"Volvo\", \"BMW\"]\n",
    "x = cars[0]\n",
    "cars[0] = \"Toyota\"\n",
    "x = len(cars)\n",
    "cars.append(\"Honda\")\n",
    "cars.pop(1)\n",
    "cars.remove(\"Volvo\")"
   ]
  },
  {
   "cell_type": "code",
   "execution_count": 169,
   "id": "96d73060-822d-4e4e-badd-0d853c517bf8",
   "metadata": {},
   "outputs": [
    {
     "name": "stdout",
     "output_type": "stream",
     "text": [
      "5\n",
      "John\n",
      "36\n",
      "<__main__.Person object at 0x00000159F1274950>\n",
      "John(36)\n",
      "Hello my name is John\n",
      "Hello my name is 36\n",
      "Hello my name is 40\n"
     ]
    }
   ],
   "source": [
    "''' Python Classes/ Objects\n",
    "A Class is like an object constructor, or a \"blueprint\" for creating objects.'''\n",
    "class MyClass:#Now we can use the class named MyClass to create objects:\n",
    "  x = 5\n",
    "p1 = MyClass()\n",
    "print(p1.x)    \n",
    "\n",
    "'''To understand the meaning of classes we have to understand the built-in __init__() function.\n",
    "All classes have a function called __init__(), which is always executed when the class is being initiated.\n",
    "Use the __init__() function to assign values to object properties, or other operations that are necessary to do when the object is being created:'''\n",
    "\n",
    "#Note: The self parameter is a reference to the current instance of the class, and is used to access variables that belong to the class.\n",
    "class Person:\n",
    "  def __init__(self, name, age):\n",
    "    self.name = name\n",
    "    self.age = age\n",
    "p1 = Person(\"John\", 36)\n",
    "print(p1.name)\n",
    "print(p1.age)\n",
    "\n",
    "'''The __str__() function controls what should be returned when the class object is represented as a string.\n",
    "If the __str__() function is not set, the string representation of the object is returned:'''\n",
    "#The string representation of an object WITHOUT the __str__() function:\n",
    "class Person:\n",
    "  def __init__(self, name, age):\n",
    "    self.name = name\n",
    "    self.age = age\n",
    "p1 = Person(\"John\", 36)\n",
    "print(p1)\n",
    "\n",
    "#The string representation of an object WITH the __str__() function:\n",
    "class Person:\n",
    "  def __init__(self, name, age):\n",
    "    self.name = name\n",
    "    self.age = age\n",
    "  def __str__(self):\n",
    "    return f\"{self.name}({self.age})\"\n",
    "p1 = Person(\"John\", 36)\n",
    "print(p1)\n",
    "\n",
    "#Object Methods\n",
    "class Person:\n",
    "  def __init__(self, name, age):\n",
    "    self.name = name\n",
    "    self.age = age\n",
    "\n",
    "  def myfunc(self):\n",
    "    print(\"Hello my name is \" + self.name)\n",
    "\n",
    "p1 = Person(\"John\", 36)\n",
    "p1.myfunc()\n",
    "\n",
    "#Instead of self, it can take any name\n",
    "class Person:\n",
    "  def __init__(mysillyobject, name, age):\n",
    "    mysillyobject.name = name\n",
    "    mysillyobject.age = age\n",
    "\n",
    "  def myfunc(abc):\n",
    "    print(\"Hello my name is \" + str(abc.age))\n",
    "\n",
    "p1 = Person(\"Brad\", 36)\n",
    "p1.myfunc()\n",
    "p1.age = 40 #MOdify\n",
    "p1.myfunc()\n",
    "del p1.age #Delete property\n",
    "del p1 #delete object"
   ]
  },
  {
   "cell_type": "code",
   "execution_count": 182,
   "id": "f997c0d6-1f04-478e-9cac-8f23dc5b011d",
   "metadata": {},
   "outputs": [
    {
     "name": "stdout",
     "output_type": "stream",
     "text": [
      "John Doe\n",
      "Mike Olsen\n"
     ]
    }
   ],
   "source": [
    "'''Python Inheritance\n",
    "Inheritance allows us to define a class that inherits all the methods and properties from another class.\n",
    "Parent class is the class being inherited from, also called base class.\n",
    "Child class is the class that inherits from another class, also called derived class.'''\n",
    "# CReating a PARENT CLASS\n",
    "class Person:\n",
    "  def __init__(self, fname, lname):\n",
    "    self.firstname = fname\n",
    "    self.lastname = lname\n",
    "  def printname(self):\n",
    "    print(self.firstname, self.lastname)\n",
    "#Use the Person class to create an object, and then execute the printname method:\n",
    "x = Person(\"John\", \"Doe\")\n",
    "x.printname()\n",
    "\n",
    "# Creating a child class\n",
    "class Student(Person):\n",
    "  pass\n",
    "\n",
    "x = Student(\"Mike\", \"Olsen\")\n",
    "x.printname()\n",
    "\n",
    "'''When you add the __init__() function, the child class will no longer inherit the parent's __init__() function.\n",
    "Note: The child's __init__() function overrides the inheritance of the parent's __init__() function.'''\n",
    "class Student(Person):\n",
    "  def __init__(self, fname, lname):\n",
    "        Person.__init__(self, fname, lname)\n",
    "      #Now we have successfully added the __init__() function, and kept the inheritance of the parent class, and we are ready to add functionality in the __init__() function.\n",
    "\n",
    "'''Python also has a super() function that will make the child class inherit all the methods and properties from its parent:'''\n",
    "class Student(Person):\n",
    "  def __init__(self, fname, lname):\n",
    "    super().__init__(fname, lname)\n",
    "    self.graduationyear = 2019 #Add a property called graduationyear to the Student class:---------- NOT Helpful\n",
    "\n",
    "class Student(Person):\n",
    "  def __init__(self, fname, lname, year):\n",
    "    super().__init__(fname, lname)\n",
    "    self.graduationyear = year\n",
    "\n",
    "  def welcome(self): # ADD A METHOD\n",
    "    print(\"Welcome\", self.firstname, self.lastname, \"to the class of\", self.graduationyear)"
   ]
  },
  {
   "cell_type": "code",
   "execution_count": 191,
   "id": "ebb60838-44ca-487b-8b2d-1f378e29b049",
   "metadata": {},
   "outputs": [
    {
     "name": "stdout",
     "output_type": "stream",
     "text": [
      "apple\n",
      "banana\n",
      "cherry\n",
      "b\n",
      "a\n",
      "n\n",
      "a\n",
      "n\n",
      "a\n",
      "apple\n",
      "banana\n",
      "cherry\n",
      "1\n",
      "2\n",
      "3\n",
      "4\n",
      "5\n",
      "1\n",
      "2\n",
      "3\n",
      "4\n",
      "5\n",
      "6\n",
      "7\n",
      "8\n",
      "9\n",
      "10\n",
      "11\n",
      "12\n",
      "13\n",
      "14\n",
      "15\n",
      "16\n",
      "17\n",
      "18\n",
      "19\n",
      "20\n"
     ]
    }
   ],
   "source": [
    "'''Python Iterators\n",
    "It is an object that contains a countable number of values. It can be iterated upon, meaning that you can traverse through all the values.\n",
    "Technically, in Python, an iterator is an object which implements the iterator protocol, which consist of the methods __iter__() and __next__().'''\n",
    "\n",
    "'''Iterator vs Iterable\n",
    "Lists, tuples, dictionaries, and sets are all iterable objects. They are iterable containers which you can get an iterator from.\n",
    "All these objects have a iter() method which is used to get an iterator:'''\n",
    "mytuple = (\"apple\", \"banana\", \"cherry\")\n",
    "myit = iter(mytuple)\n",
    "print(next(myit))\n",
    "print(next(myit))\n",
    "print(next(myit))\n",
    "\n",
    "# Even string is an iterable object\n",
    "mystr = \"banana\"\n",
    "myit = iter(mystr)\n",
    "\n",
    "print(next(myit))\n",
    "print(next(myit))\n",
    "print(next(myit))\n",
    "print(next(myit))\n",
    "print(next(myit))\n",
    "print(next(myit))\n",
    "\n",
    "for x in mytuple: #Looping through an Iterator. Similarly for x in mystr:\n",
    "  print(x)\n",
    "\n",
    "'''The __iter__() method acts similar, you can do operations (initializing etc.), but must always return the iterator object itself.\n",
    "The __next__() method also allows you to do operations, and must return the next item in the sequence.'''\n",
    "class MyNumbers:\n",
    "  def __iter__(self):\n",
    "    self.a = 1\n",
    "    return self\n",
    "\n",
    "  def __next__(self):\n",
    "    x = self.a\n",
    "    self.a += 1\n",
    "    return x\n",
    "\n",
    "myclass = MyNumbers()\n",
    "myiter = iter(myclass)\n",
    "\n",
    "print(next(myiter))\n",
    "print(next(myiter))\n",
    "print(next(myiter))\n",
    "print(next(myiter))\n",
    "print(next(myiter))\n",
    "\n",
    "# We can also stop the iteration\n",
    "class MyNumbers:\n",
    "  def __iter__(self):\n",
    "    self.a = 1\n",
    "    return self\n",
    "\n",
    "  def __next__(self):\n",
    "    if self.a <= 20:\n",
    "      x = self.a\n",
    "      self.a += 1\n",
    "      return x\n",
    "    else:\n",
    "      raise StopIteration\n",
    "\n",
    "myclass = MyNumbers()\n",
    "myiter = iter(myclass)\n",
    "\n",
    "for x in myiter:\n",
    "  print(x)"
   ]
  },
  {
   "cell_type": "code",
   "execution_count": 194,
   "id": "f355cc4f-0049-4d1a-bde0-4e6527c2f93d",
   "metadata": {},
   "outputs": [
    {
     "name": "stdout",
     "output_type": "stream",
     "text": [
      "Drive!\n",
      "Sail!\n",
      "Fly!\n",
      "Ford\n",
      "Mustang\n",
      "Move!\n",
      "Ibiza\n",
      "Touring 20\n",
      "Sail!\n",
      "Boeing\n",
      "747\n",
      "Fly!\n"
     ]
    }
   ],
   "source": [
    "'''The word \"polymorphism\" means \"many forms\", and in programming it refers to methods/functions/operators with the same name that can be executed on many objects or classes.\n",
    "An example of a Python function that can be used on different objects is the len() function.\n",
    "For strings len() returns the number of characters:\n",
    "For tuples len() returns the number of items in the tuple:\n",
    "For dictionaries len() returns the number of key/value pairs in the dictionary:'''\n",
    "\n",
    "'''Class Polymorphism\n",
    "Polymorphism is often used in Class methods, where we can have multiple classes with the same method name.\n",
    "For example, say we have three classes: Car, Boat, and Plane, and they all have a method called move():'''\n",
    "class Car:\n",
    "  def __init__(self, brand, model):\n",
    "    self.brand = brand\n",
    "    self.model = model\n",
    "  def move(self):\n",
    "    print(\"Drive!\")\n",
    "\n",
    "class Boat:\n",
    "  def __init__(self, brand, model):\n",
    "    self.brand = brand\n",
    "    self.model = model\n",
    "  def move(self):\n",
    "    print(\"Sail!\")\n",
    "\n",
    "class Plane:\n",
    "  def __init__(self, brand, model):\n",
    "    self.brand = brand\n",
    "    self.model = model\n",
    "  def move(self):\n",
    "    print(\"Fly!\")\n",
    "\n",
    "car1 = Car(\"Ford\", \"Mustang\")       #Create a Car class\n",
    "boat1 = Boat(\"Ibiza\", \"Touring 20\") #Create a Boat class\n",
    "plane1 = Plane(\"Boeing\", \"747\")     #Create a Plane class\n",
    "\n",
    "for x in (car1, boat1, plane1):\n",
    "  x.move()\n",
    "\n",
    "#Look at the for loop at the end. Because of polymorphism we can execute the same method for all three classes............\n",
    "\n",
    "'''Inheritance Class Polymorphism\n",
    "What about classes with child classes with the same name? Can we use polymorphism there?\n",
    "\n",
    "Yes. If we use the example above and make a parent class called Vehicle, and make Car, Boat, Plane child classes of Vehicle, the child classes inherits the Vehicle methods, but can override them:'''\n",
    "class Vehicle:\n",
    "  def __init__(self, brand, model):\n",
    "    self.brand = brand\n",
    "    self.model = model\n",
    "  def move(self):\n",
    "    print(\"Move!\")\n",
    "\n",
    "class Car(Vehicle):\n",
    "  pass\n",
    "\n",
    "class Boat(Vehicle):\n",
    "  def move(self):\n",
    "    print(\"Sail!\")\n",
    "\n",
    "class Plane(Vehicle):\n",
    "  def move(self):\n",
    "    print(\"Fly!\")\n",
    "\n",
    "car1 = Car(\"Ford\", \"Mustang\") #Create a Car object\n",
    "boat1 = Boat(\"Ibiza\", \"Touring 20\") #Create a Boat object\n",
    "plane1 = Plane(\"Boeing\", \"747\") #Create a Plane object\n",
    "\n",
    "for x in (car1, boat1, plane1):\n",
    "  print(x.brand)\n",
    "  print(x.model)\n",
    "  x.move()"
   ]
  },
  {
   "cell_type": "code",
   "execution_count": 203,
   "id": "67f8cef2-ae23-43e1-88cb-6b19856330ee",
   "metadata": {},
   "outputs": [
    {
     "name": "stdout",
     "output_type": "stream",
     "text": [
      "300\n",
      "300\n",
      "200\n",
      "200\n",
      "150\n",
      "100\n",
      "hello\n"
     ]
    }
   ],
   "source": [
    "'''SCOPE: A variable is only available from inside the region it is created. This is called scope.\n",
    "Local Scope: A variable created inside a function belongs to the local scope of that function, and can only be used inside that function.\n",
    "Global Scope: A variable created in the main body of the Python code is a global variable and belongs to the global scope.\n",
    "Global variables are available from within any scope, global and local.\n",
    "'''\n",
    "def myfunc(): #LOcal scope\n",
    "  x = 300\n",
    "  print(x)\n",
    "myfunc()\n",
    "\n",
    "#Function Inside Function\n",
    "def myfunc():\n",
    "  x = 300\n",
    "  def myinnerfunc():\n",
    "    print(x)\n",
    "  myinnerfunc()\n",
    "myfunc()\n",
    "\n",
    "x = 200 #GLobal scope\n",
    "def myfunc():\n",
    "  print(x)\n",
    "myfunc()\n",
    "print(x)\n",
    "\n",
    "'''If you operate with the same variable name inside and outside of a function, Python will treat them as two separate variables, \n",
    "one available in the global scope (outside the function) and one available in the local scope (inside the function):\n",
    "'''\n",
    "x = 100\n",
    "def myfunc():\n",
    "  #global x #OPTIONAL #To change the value of a global variable inside a function, refer to the variable by using the global keyword:\n",
    "  x = 150\n",
    "  print(x)\n",
    "myfunc()\n",
    "print(x)\n",
    "\n",
    "def myfunc():\n",
    "  global x #The global keyword makes the variable global.\n",
    "  x = 300\n",
    "\n",
    "'''The nonlocal keyword is used to work with variables inside nested functions. They makes the variable belong to the outer function.'''\n",
    "def myfunc1():\n",
    "  x = \"Jane\"\n",
    "  def myfunc2():\n",
    "    nonlocal x\n",
    "    x = \"hello\"\n",
    "  myfunc2()\n",
    "  return x\n",
    "\n",
    "print(myfunc1())"
   ]
  },
  {
   "cell_type": "code",
   "execution_count": 208,
   "id": "c1c658f6-ac24-4bf1-88d6-6613139f09f0",
   "metadata": {},
   "outputs": [
    {
     "name": "stdout",
     "output_type": "stream",
     "text": [
      "Windows\n",
      "['_Processor', '_WIN32_CLIENT_RELEASES', '_WIN32_SERVER_RELEASES', '__builtins__', '__cached__', '__copyright__', '__doc__', '__file__', '__loader__', '__name__', '__package__', '__spec__', '__version__', '_comparable_version', '_component_re', '_default_architecture', '_follow_symlinks', '_get_machine_win32', '_ironpython26_sys_version_parser', '_ironpython_sys_version_parser', '_java_getprop', '_libc_search', '_mac_ver_xml', '_node', '_norm_version', '_os_release_cache', '_os_release_candidates', '_os_release_line', '_os_release_unescape', '_parse_os_release', '_platform', '_platform_cache', '_pypy_sys_version_parser', '_sys_version', '_sys_version_cache', '_sys_version_parser', '_syscmd_file', '_syscmd_ver', '_uname_cache', '_unknown_as_blank', '_ver_output', '_ver_stages', 'architecture', 'collections', 'freedesktop_os_release', 'functools', 'itertools', 'java_ver', 'libc_ver', 'mac_ver', 'machine', 'node', 'os', 'platform', 'processor', 'python_branch', 'python_build', 'python_compiler', 'python_implementation', 'python_revision', 'python_version', 'python_version_tuple', 're', 'release', 'sys', 'system', 'system_alias', 'uname', 'uname_result', 'version', 'win32_edition', 'win32_is_iot', 'win32_ver']\n"
     ]
    },
    {
     "data": {
      "text/plain": [
       "'You can choose to import only parts from a module, by using the from keyword.\\nIf a module named mymodule has one function(greetings) and one dictionary(person1):, then'"
      ]
     },
     "execution_count": 208,
     "metadata": {},
     "output_type": "execute_result"
    }
   ],
   "source": [
    "'''Module: Consider a module to be the same as a code library.A file containing a set of functions you want to include in your application.\n",
    "To create a module just save the code you want in a file with the file extension .py:\n",
    "\n",
    "#Save this code in a file named mymodule.py\n",
    "def greeting(name):\n",
    "  print(\"Hello, \" + name)\n",
    "    \n",
    "#Import the module named mymodule, and call the greeting function:\n",
    "import mymodule\n",
    "mymodule.greeting(\"Jonathan\") #syntax: module_name.function_name.\n",
    "\n",
    "import mymodule as mx #Re-naming a Module\n",
    "'''\n",
    "'''Built-in Modules'''\n",
    "import platform\n",
    "x = platform.system()\n",
    "print(x)\n",
    "x = dir(platform) #built-in function to list all the function names (or variable names) in a module.\n",
    "print(x)\n",
    "\n",
    "'''You can choose to import only parts from a module, by using the from keyword.\n",
    "If a module named mymodule has one function(greetings) and one dictionary(person1):, then'''\n",
    "#from mymodule import person1\n",
    "# print (person1[\"age\"]) # and not mymodule.person1[\"age\"]\n"
   ]
  },
  {
   "cell_type": "code",
   "execution_count": 217,
   "id": "26eedc18-ac15-4f78-9a2d-54ab2e9b1390",
   "metadata": {},
   "outputs": [
    {
     "name": "stdout",
     "output_type": "stream",
     "text": [
      "2024-06-05 14:55:14.345750\n",
      "2024\n",
      "Wednesday\n",
      "2020-05-17 00:00:00\n"
     ]
    },
    {
     "data": {
      "text/plain": [
       "'\\nDirective\\tDescription\\tExample\\t\\n%a\\tWeekday, short version\\tWed\\t\\n%A\\tWeekday, full version\\tWednesday\\t\\n%w\\tWeekday as a number 0-6, 0 is Sunday\\t3\\t\\n%d\\tDay of month 01-31\\t31\\t\\n%b\\tMonth name, short version\\tDec\\t\\n%B\\tMonth name, full version\\tDecember\\t\\n%m\\tMonth as a number 01-12\\t12\\t\\n%y\\tYear, short version, without century\\t18\\t\\n%Y\\tYear, full version\\t2018\\t\\n%H\\tHour 00-23\\t17\\t\\n%I\\tHour 00-12\\t05\\t\\n%p\\tAM/PM\\tPM\\t\\n%M\\tMinute 00-59\\t41\\t\\n%S\\tSecond 00-59\\t08\\t\\n%f\\tMicrosecond 000000-999999\\t548513\\t\\n%z\\tUTC offset\\t+0100\\t\\n%Z\\tTimezone\\tCST\\t\\n%j\\tDay number of year 001-366\\t365\\t\\n%U\\tWeek number of year, Sunday as the first day of week, 00-53\\t52\\t\\n%W\\tWeek number of year, Monday as the first day of week, 00-53\\t52\\t\\n%c\\tLocal version of date and time\\tMon Dec 31 17:41:00 2018\\t\\n%C\\tCentury\\t20\\t\\n%x\\tLocal version of date\\t12/31/18\\t\\n%X\\tLocal version of time\\t17:41:00\\t\\n%%\\tA % character\\t%\\t\\n%G\\tISO 8601 year\\t2018\\t\\n%u\\tISO 8601 weekday (1-7)\\t1\\t\\n%V\\tISO 8601 weeknumber (01-53)\\t01\\n'"
      ]
     },
     "execution_count": 217,
     "metadata": {},
     "output_type": "execute_result"
    }
   ],
   "source": [
    "'''A date in Python is not a data type of its own, but we can import a module named datetime to work with dates as date objects.\n",
    "'''\n",
    "import datetime\n",
    "\n",
    "x = datetime.datetime.now()\n",
    "print(x)\n",
    "print(x.year)\n",
    "print(x.strftime(\"%A\")) #method for formatting date objects into readable strings.\n",
    "\n",
    "'''Creating Date Objects\n",
    "To create a date, we can use the datetime() class (constructor) of the datetime module.\n",
    "The datetime() class requires three parameters to create a date: year, month, day.'''\n",
    "x = datetime.datetime(2020, 5, 17)\n",
    "print(x)\n",
    "\n",
    "'''\n",
    "Directive\tDescription\tExample\t\n",
    "%a\tWeekday, short version\tWed\t\n",
    "%A\tWeekday, full version\tWednesday\t\n",
    "%w\tWeekday as a number 0-6, 0 is Sunday\t3\t\n",
    "%d\tDay of month 01-31\t31\t\n",
    "%b\tMonth name, short version\tDec\t\n",
    "%B\tMonth name, full version\tDecember\t\n",
    "%m\tMonth as a number 01-12\t12\t\n",
    "%y\tYear, short version, without century\t18\t\n",
    "%Y\tYear, full version\t2018\t\n",
    "%H\tHour 00-23\t17\t\n",
    "%I\tHour 00-12\t05\t\n",
    "%p\tAM/PM\tPM\t\n",
    "%M\tMinute 00-59\t41\t\n",
    "%S\tSecond 00-59\t08\t\n",
    "%f\tMicrosecond 000000-999999\t548513\t\n",
    "%z\tUTC offset\t+0100\t\n",
    "%Z\tTimezone\tCST\t\n",
    "%j\tDay number of year 001-366\t365\t\n",
    "%U\tWeek number of year, Sunday as the first day of week, 00-53\t52\t\n",
    "%W\tWeek number of year, Monday as the first day of week, 00-53\t52\t\n",
    "%c\tLocal version of date and time\tMon Dec 31 17:41:00 2018\t\n",
    "%C\tCentury\t20\t\n",
    "%x\tLocal version of date\t12/31/18\t\n",
    "%X\tLocal version of time\t17:41:00\t\n",
    "%%\tA % character\t%\t\n",
    "%G\tISO 8601 year\t2018\t\n",
    "%u\tISO 8601 weekday (1-7)\t1\t\n",
    "%V\tISO 8601 weeknumber (01-53)\t01\n",
    "'''"
   ]
  },
  {
   "cell_type": "code",
   "execution_count": 218,
   "id": "526a3fff-b621-4f93-919a-0db26d738a15",
   "metadata": {},
   "outputs": [
    {
     "data": {
      "text/plain": [
       "' built-in math functions: import math\\nThe min() and max() functions can be used to find the lowest or highest value in an iterable: x = min(5, 10, 25)\\nThe abs() function returns the absolute (positive) value of the specified number: x = abs(-7.25)\\nThe pow(x, y) function returns the value of x to the power of y: x = pow(4, 3)\\nmath.sqrt()\\nmath.ceil(): rounds a number upwards to its nearest integer: x = math.ceil(1.4)\\nmath.floor(): rounds a number downwards to its nearest integer y = math.floor(1.4)\\nmath.pi: PI (3.14...)'"
      ]
     },
     "execution_count": 218,
     "metadata": {},
     "output_type": "execute_result"
    }
   ],
   "source": [
    "''' built-in math functions: import math\n",
    "The min() and max() functions can be used to find the lowest or highest value in an iterable: x = min(5, 10, 25)\n",
    "The abs() function returns the absolute (positive) value of the specified number: x = abs(-7.25)\n",
    "The pow(x, y) function returns the value of x to the power of y: x = pow(4, 3)\n",
    "math.sqrt()\n",
    "math.ceil(): rounds a number upwards to its nearest integer: x = math.ceil(1.4)\n",
    "math.floor(): rounds a number downwards to its nearest integer y = math.floor(1.4)\n",
    "math.pi: PI (3.14...)'''"
   ]
  },
  {
   "cell_type": "code",
   "execution_count": 230,
   "id": "30421a16-0ff0-4a8f-8bc9-0dedcabbb9cd",
   "metadata": {},
   "outputs": [
    {
     "name": "stdout",
     "output_type": "stream",
     "text": [
      "30\n",
      "{\"name\": \"John\", \"age\": 30, \"city\": \"New York\"}\n",
      "{\"name\": \"John\", \"age\": 30}\n",
      "[\"apple\", \"bananas\"]\n",
      "[\"apple\", \"bananas\"]\n",
      "\"hello\"\n",
      "42\n",
      "31.76\n",
      "true\n",
      "false\n",
      "null\n",
      "{\"name\": \"John\", \"age\": 30, \"married\": true, \"divorced\": false, \"children\": [\"Ann\", \"Billy\"], \"pets\": null, \"cars\": [{\"model\": \"BMW 230\", \"mpg\": 27.5}, {\"model\": \"Ford Edge\", \"mpg\": 24.1}]}\n",
      "{\n",
      "     \"name\": \"John\",\n",
      "     \"age\": 30,\n",
      "     \"married\": true,\n",
      "     \"divorced\": false,\n",
      "     \"children\": [\n",
      "          \"Ann\",\n",
      "          \"Billy\"\n",
      "     ],\n",
      "     \"pets\": null,\n",
      "     \"cars\": [\n",
      "          {\n",
      "               \"model\": \"BMW 230\",\n",
      "               \"mpg\": 27.5\n",
      "          },\n",
      "          {\n",
      "               \"model\": \"Ford Edge\",\n",
      "               \"mpg\": 24.1\n",
      "          }\n",
      "     ]\n",
      "}\n",
      "{\n",
      "    \"name\" = \"John\". \n",
      "    \"age\" = 30. \n",
      "    \"married\" = true. \n",
      "    \"divorced\" = false. \n",
      "    \"children\" = [\n",
      "        \"Ann\". \n",
      "        \"Billy\"\n",
      "    ]. \n",
      "    \"pets\" = null. \n",
      "    \"cars\" = [\n",
      "        {\n",
      "            \"model\" = \"BMW 230\". \n",
      "            \"mpg\" = 27.5\n",
      "        }. \n",
      "        {\n",
      "            \"model\" = \"Ford Edge\". \n",
      "            \"mpg\" = 24.1\n",
      "        }\n",
      "    ]\n",
      "}\n",
      "{\n",
      "    \"age\": 30,\n",
      "    \"cars\": [\n",
      "        {\n",
      "            \"model\": \"BMW 230\",\n",
      "            \"mpg\": 27.5\n",
      "        },\n",
      "        {\n",
      "            \"model\": \"Ford Edge\",\n",
      "            \"mpg\": 24.1\n",
      "        }\n",
      "    ],\n",
      "    \"children\": [\n",
      "        \"Ann\",\n",
      "        \"Billy\"\n",
      "    ],\n",
      "    \"divorced\": false,\n",
      "    \"married\": true,\n",
      "    \"name\": \"John\",\n",
      "    \"pets\": null\n",
      "}\n"
     ]
    }
   ],
   "source": [
    "''' PYTHON JSON: JSON is a syntax for storing and exchanging data.\n",
    "JSON is text, written with JavaScript object notation.\n",
    "Parse JSON - Convert from JSON to Python: If you have a JSON string, you can parse it by using the json.loads() method----> The result will be a Python dictionary.\n",
    "Convert from Python to JSON: If you have a Python object, you can convert it into a JSON string by using the json.dumps() method.\n",
    "You can convert Python objects of the following types, into JSON strings:\n",
    "dict\n",
    "list\n",
    "tuple\n",
    "string\n",
    "int\n",
    "float\n",
    "True\n",
    "False\n",
    "None\n",
    "'''\n",
    "\n",
    "import json\n",
    "x =  '{ \"name\":\"John\", \"age\":30, \"city\":\"New York\"}' # some JSON:\n",
    "y = json.loads(x) # parse x:\n",
    "print(y[\"age\"]) # the result is a Python dictionary:\n",
    "\n",
    "# a Python object (dict):\n",
    "x = {\n",
    "  \"name\": \"John\",\n",
    "  \"age\": 30,\n",
    "  \"city\": \"New York\"\n",
    "}\n",
    "y = json.dumps(x) ## convert into JSON:\n",
    "print(y) # the result is a JSON string:\n",
    "\n",
    "print(json.dumps({\"name\": \"John\", \"age\": 30}))\n",
    "print(json.dumps([\"apple\", \"bananas\"]))\n",
    "print(json.dumps((\"apple\", \"bananas\")))\n",
    "print(json.dumps(\"hello\"))\n",
    "print(json.dumps(42))\n",
    "print(json.dumps(31.76))\n",
    "print(json.dumps(True))\n",
    "print(json.dumps(False))\n",
    "print(json.dumps(None))\n",
    "\n",
    "\n",
    "x = {\n",
    "  \"name\": \"John\",\n",
    "  \"age\": 30,\n",
    "  \"married\": True,\n",
    "  \"divorced\": False,\n",
    "  \"children\": (\"Ann\",\"Billy\"),\n",
    "  \"pets\": None,\n",
    "  \"cars\": [\n",
    "    {\"model\": \"BMW 230\", \"mpg\": 27.5},\n",
    "    {\"model\": \"Ford Edge\", \"mpg\": 24.1}\n",
    "  ]\n",
    "}\n",
    "print(json.dumps(x))\n",
    "#The example above prints a JSON string, but it is not very easy to read, with no indentations and line breaks. \n",
    "#Use the indent parameter to define the numbers of indents:\n",
    "print(json.dumps(x, indent=5))\n",
    "print(json.dumps(x, indent=4, separators=(\". \", \" = \"))) #You can also define the separators, default value is (\", \", \": \"), which means using a comma and a space to separate each object, and a colon and a space to separate keys from values:\n",
    "print(json.dumps(x, indent=4, sort_keys=True)) # to specify if the result should be sorted or not:\n"
   ]
  },
  {
   "cell_type": "code",
   "execution_count": 249,
   "id": "b2a2eb5e-f343-43a1-b970-d78a9171fd91",
   "metadata": {},
   "outputs": [
    {
     "name": "stdout",
     "output_type": "stream",
     "text": [
      "<re.Match object; span=(0, 17), match='The rain in Spain'>\n",
      "['ai', 'ai']\n",
      "[]\n",
      "The first white-space character is located in position: 3\n",
      "None\n",
      "['The', 'rain', 'in', 'Spain']\n",
      "['The', 'rain in Spain']\n",
      "The9rain9in9Spain\n",
      "The9rain9in Spain\n",
      "(12, 17)\n",
      "The rain in Spain\n",
      "Spain\n"
     ]
    }
   ],
   "source": [
    "''' RegEx: import re\n",
    "A RegEx, or Regular Expression, is a sequence of characters that forms a search pattern. RegEx can be used to check if a string contains the specified search pattern.\n",
    "The re module offers a set of functions that allows us to search a string for a match:\n",
    "\n",
    "Function\tDescription\n",
    "findall\tReturns a list containing all matches\n",
    "search\tReturns a Match object if there is a match anywhere in the string\n",
    "split\tReturns a list where the string has been split at each match\n",
    "sub\tReplaces one or many matches with a string\n",
    "'''\n",
    "import re\n",
    "txt = \"The rain in Spain\"\n",
    "x = re.search(\"^The.*Spain$\", txt) #Search the string to see if it starts with \"The\" and ends with \"Spain\":\n",
    "print(x)\n",
    "'''\n",
    "Metacharacters are characters with a special meaning:\n",
    "Character\tDescription\tExample\n",
    "[]\tA set of characters\t\"[a-m]\"\t\n",
    "\\\tSignals a special sequence (can also be used to escape special characters)\t\"\\d\"\t\n",
    ".\tAny character (except newline character)\t\"he..o\"\t\n",
    "^\tStarts with\t\"^hello\"\t\n",
    "$\tEnds with\t\"planet$\"\t\n",
    "*\tZero or more occurrences\t\"he.*o\"\t\n",
    "+\tOne or more occurrences\t\"he.+o\"\t\n",
    "?\tZero or one occurrences\t\"he.?o\"\t\n",
    "{}\tExactly the specified number of occurrences\t\"he.{2}o\"\t\n",
    "|\tEither or\t\"falls|stays\"\n",
    "'''\n",
    "x = re.findall(\"ai\", txt)\n",
    "print(x)\n",
    "\n",
    "x = re.findall(\"Portugal\", txt)\n",
    "print(x) #Return an empty list if no match was found:\n",
    "\n",
    "x = re.search(\"\\s\", txt) #Search for the first white-space character in the string:\n",
    "print(\"The first white-space character is located in position:\", x.start())\n",
    "\n",
    "x = re.search(\"Portugal\", txt)\n",
    "print(x)\n",
    "\n",
    "x = re.split(\"\\s\", txt) #Split at each white-space character:\n",
    "print(x)\n",
    "x = re.split(\"\\s\", txt, 1) #Split the string only at the first occurrence:\n",
    "print(x)\n",
    "\n",
    "x = re.sub(\"\\s\", \"9\", txt) #Replace every white-space character with the number 9:\n",
    "print(x)\n",
    "x = re.sub(\"\\s\", \"9\", txt, 2) #Replace the first 2 occurrences:\n",
    "print(x)\n",
    "\n",
    "'''The Match object has properties and methods used to retrieve information about the search, and the result:\n",
    "\n",
    ".span() returns a tuple containing the start-, and end positions of the match.\n",
    ".string returns the string passed into the function\n",
    ".group() returns the part of the string where there was a match\n",
    "'''\n",
    "x = re.search(r\"\\bS\\w+\", txt)\n",
    "print(x.span()) #Print the position (start- and end-position) of the first match occurrence.The regular expression looks for any words that starts with an upper case \"S\":\n",
    "print(x.string) #Print the string passed into the function:\n",
    "print(x.group()) #Print the part of the string where there was a match.\n"
   ]
  },
  {
   "cell_type": "code",
   "execution_count": 269,
   "id": "c143ac27-face-45f7-a0bc-9dc5e649ddea",
   "metadata": {},
   "outputs": [
    {
     "name": "stdout",
     "output_type": "stream",
     "text": [
      "An exception occurred\n",
      "Variable x is not defined\n",
      "Hello\n",
      "Nothing went wrong\n",
      "-1\n",
      "The 'try except' is finished\n",
      "Something went wrong when opening the file\n"
     ]
    },
    {
     "ename": "Exception",
     "evalue": "Sorry, no numbers below zero",
     "output_type": "error",
     "traceback": [
      "\u001b[1;31m---------------------------------------------------------------------------\u001b[0m",
      "\u001b[1;31mException\u001b[0m                                 Traceback (most recent call last)",
      "Cell \u001b[1;32mIn[269], line 63\u001b[0m\n\u001b[0;32m     61\u001b[0m x \u001b[38;5;241m=\u001b[39m \u001b[38;5;241m-\u001b[39m\u001b[38;5;241m1\u001b[39m\n\u001b[0;32m     62\u001b[0m \u001b[38;5;28;01mif\u001b[39;00m x \u001b[38;5;241m<\u001b[39m \u001b[38;5;241m0\u001b[39m:\n\u001b[1;32m---> 63\u001b[0m   \u001b[38;5;28;01mraise\u001b[39;00m \u001b[38;5;167;01mException\u001b[39;00m(\u001b[38;5;124m\"\u001b[39m\u001b[38;5;124mSorry, no numbers below zero\u001b[39m\u001b[38;5;124m\"\u001b[39m)\n",
      "\u001b[1;31mException\u001b[0m: Sorry, no numbers below zero"
     ]
    }
   ],
   "source": [
    "'''PIP is a package manager for Python packages, or modules if you like.\n",
    "A package contains all the files you need for a module.\n",
    "Modules are Python code libraries you can include in your project.\n",
    "'''\n",
    "\n",
    "'''\n",
    "The 'try' block lets you test a block of code for errors.\n",
    "The 'except' block lets you handle the error.\n",
    "The 'else' block lets you execute code when there is no error.\n",
    "The 'finally' block lets you execute code, regardless of the result of the try- and except blocks.\n",
    "\n",
    "When an error occurs, or exception as we call it, Python will normally stop and generate an error message. \n",
    "These exceptions can be handled using the try statement:\n",
    "'''\n",
    "try:\n",
    "  print(X)\n",
    "except:\n",
    "  print(\"An exception occurred\")\n",
    "\n",
    "'''You can define as many exception blocks as you want, e.g. if you want to execute a special block of code for a special kind of error\n",
    "\n",
    "'''\n",
    "try: #Multiple except statements\n",
    "  print(X)\n",
    "except NameError:\n",
    "  print(\"Variable x is not defined\")\n",
    "except:\n",
    "  print(\"Something else went wrong\")\n",
    "\n",
    "try: # or else statement\n",
    "  print(\"Hello\")\n",
    "except:\n",
    "  print(\"Something went wrong\")\n",
    "else:\n",
    "  print(\"Nothing went wrong\")\n",
    "\n",
    "try: #The finally block, if specified, will be executed regardless if the try block raises an error or not.\n",
    "  print(x)\n",
    "except:\n",
    "  print(\"Something went wrong\")\n",
    "finally: #This can be useful to close objects and clean up resources:\n",
    "  print(\"The 'try except' is finished\") \n",
    "\n",
    "#Try to open and write to a file that is not writable:\n",
    "try:\n",
    "  f = open(\"demofile.txt\")\n",
    "  try:\n",
    "    f.write(\"Lorum Ipsum\")\n",
    "  except:\n",
    "    print(\"Something went wrong when writing to the file\")\n",
    "  finally:\n",
    "    f.close()\n",
    "except:\n",
    "  print(\"Something went wrong when opening the file\")\n",
    "\n",
    "'''As a Python developer you can choose to throw an exception if a condition occurs.\n",
    "To throw (or raise) an exception, use the raise keyword.\n",
    "The raise keyword is used to raise an exception.\n",
    "You can define what kind of error to raise, and the text to print to the user.'''\n",
    "\n",
    "x = -1\n",
    "if x < 0:\n",
    "  raise Exception(\"Sorry, no numbers below zero\")"
   ]
  },
  {
   "cell_type": "code",
   "execution_count": 270,
   "id": "e3e27830-3fdc-4fc2-8487-175790884242",
   "metadata": {},
   "outputs": [
    {
     "ename": "TypeError",
     "evalue": "Only integers are allowed",
     "output_type": "error",
     "traceback": [
      "\u001b[1;31m---------------------------------------------------------------------------\u001b[0m",
      "\u001b[1;31mTypeError\u001b[0m                                 Traceback (most recent call last)",
      "Cell \u001b[1;32mIn[270], line 3\u001b[0m\n\u001b[0;32m      1\u001b[0m x \u001b[38;5;241m=\u001b[39m \u001b[38;5;124m\"\u001b[39m\u001b[38;5;124mhello\u001b[39m\u001b[38;5;124m\"\u001b[39m\n\u001b[0;32m      2\u001b[0m \u001b[38;5;28;01mif\u001b[39;00m \u001b[38;5;129;01mnot\u001b[39;00m \u001b[38;5;28mtype\u001b[39m(x) \u001b[38;5;129;01mis\u001b[39;00m \u001b[38;5;28mint\u001b[39m:\n\u001b[1;32m----> 3\u001b[0m   \u001b[38;5;28;01mraise\u001b[39;00m \u001b[38;5;167;01mTypeError\u001b[39;00m(\u001b[38;5;124m\"\u001b[39m\u001b[38;5;124mOnly integers are allowed\u001b[39m\u001b[38;5;124m\"\u001b[39m)\n",
      "\u001b[1;31mTypeError\u001b[0m: Only integers are allowed"
     ]
    }
   ],
   "source": [
    "x = \"hello\"\n",
    "if not type(x) is int:\n",
    "  raise TypeError(\"Only integers are allowed\")"
   ]
  },
  {
   "cell_type": "code",
   "execution_count": 275,
   "id": "8f9e7aaa-e49f-44d9-8c2b-9cf699279fa0",
   "metadata": {},
   "outputs": [
    {
     "name": "stdin",
     "output_type": "stream",
     "text": [
      "Enter username: Paddu\n"
     ]
    },
    {
     "name": "stdout",
     "output_type": "stream",
     "text": [
      "Username is: Paddu\n"
     ]
    }
   ],
   "source": [
    "''' USER INPUT'''\n",
    "username = input(\"Enter username:\")\n",
    "print(\"Username is: \" + username)"
   ]
  },
  {
   "cell_type": "code",
   "execution_count": 283,
   "id": "a9e9135c-ce11-4d78-8170-b66b4c99dbac",
   "metadata": {},
   "outputs": [
    {
     "name": "stdout",
     "output_type": "stream",
     "text": [
      "The price is 49 dollars\n",
      "The price is 59 dollars\n",
      "The price is 69.00 dollars\n",
      "The price is 95.00 dollars\n",
      "The price is 1180 dollars\n",
      "It is very Cheap\n",
      "I love APPLES\n",
      "The plane is flying at a 9144.0 meter altitude\n",
      "The price is 59,000 dollars\n"
     ]
    }
   ],
   "source": [
    "'''Python String Formatting\n",
    "F-String was introduced in Python 3.6, Before that format() method.\n",
    "F-string allows you to format selected parts of a string by simply put an f in front of the string literal.\n",
    "'''\n",
    "txt = f\"The price is 49 dollars\"\n",
    "print(txt)\n",
    "\n",
    "'''Placeholders and Modifiers: To format values in an f-string, add placeholders {}\n",
    "a placeholder can contain variables, operations, functions, and modifiers to format the value.\n",
    "'''\n",
    "price = 59\n",
    "txt = f\"The price is {price} dollars\"\n",
    "print(txt)\n",
    "\n",
    "'''A placeholder can also include a modifier to format the value.\n",
    "A modifier is included by adding a colon : followed by a legal formatting type, like .2f which means fixed point number with 2 decimals:\n",
    "'''\n",
    "price = 69\n",
    "txt = f\"The price is {price:.2f} dollars\"\n",
    "print(txt)\n",
    "\n",
    "txt = f\"The price is {95:.2f} dollars\" #You can also format a value directly without keeping it in a variable:\n",
    "print(txt)\n",
    "\n",
    "txt = f\"The price is {20 * 59} dollars\" # Can do operations in place holder\n",
    "print(txt)\n",
    "\n",
    "price = 49\n",
    "txt = f\"It is very {'Expensive' if price>50 else 'Cheap'}\" # Can perform if else statement\n",
    "print(txt)\n",
    "\n",
    "fruit = \"apples\"\n",
    "txt = f\"I love {fruit.upper()}\" #Use the string method upper()to convert a value into upper case letters:\n",
    "print(txt)\n",
    "\n",
    "#Can also create function and call inside placeholder\n",
    "def myconverter(x):\n",
    "  return x * 0.3048\n",
    "\n",
    "txt = f\"The plane is flying at a {myconverter(30000)} meter altitude\"\n",
    "print(txt)\n",
    "\n",
    "price = 59000\n",
    "txt = f\"The price is {price:,} dollars\" #Use a comma as a thousand separator:\n",
    "print(txt)"
   ]
  },
  {
   "cell_type": "code",
   "execution_count": 286,
   "id": "7e340d9f-9a99-40ed-93d0-0d89c3978697",
   "metadata": {},
   "outputs": [
    {
     "name": "stdout",
     "output_type": "stream",
     "text": [
      "The price is 49 dollars\n",
      "His name is John. John is 36 years old.\n",
      "I want 3 pieces of item number 567 for 49.00 dollars.\n"
     ]
    }
   ],
   "source": [
    "###\n",
    "price = 49\n",
    "txt = \"The price is {} dollars\"\n",
    "print(txt.format(price))\n",
    "\n",
    "###\n",
    "age = 36\n",
    "name = \"John\"\n",
    "txt = \"His name is {1}. {1} is {0} years old.\"\n",
    "print(txt.format(age, name))\n",
    "\n",
    "###\n",
    "quantity = 3\n",
    "itemno = 567\n",
    "price = 49\n",
    "myorder = \"I want {} pieces of item number {} for {:.2f} dollars.\"\n",
    "print(myorder.format(quantity, itemno, price))"
   ]
  },
  {
   "cell_type": "code",
   "execution_count": null,
   "id": "0f9bf02c-ad4e-49df-bdc8-567a6326fad4",
   "metadata": {},
   "outputs": [],
   "source": [
    "''' File Handling\n",
    "\"r\" - Read - Default value. Opens a file for reading, error if the file does not exist\n",
    "\"a\" - Append - Opens a file for appending, creates the file if it does not exist\n",
    "\"w\" - Write - Opens a file for writing, creates the file if it does not exist\n",
    "\"x\" - Create - Creates the specified file, returns an error if the file exists\n",
    "\n",
    "\"t\" - Text - Default value. Text mode\n",
    "\"b\" - Binary - Binary mode (e.g. images)\n",
    "\n",
    "f = open(\"demofile.txt\", \"rt\")\n",
    "\n",
    "f = open(\"demofile.txt\", \"r\")\n",
    "print(f.read(5)) #Return the 5 first characters of the file\n",
    "print(f.readline()) #Read one line of the file:\n",
    "print(f.readline()) # Reads second line by calling again\n",
    "\n",
    "f.close() #You should always close your files, in some cases, due to buffering, changes made to a file may not show until you close the file.\n",
    "\n",
    "# Append and Write in the file\n",
    "f = open(\"demofile2.txt\", \"a\")\n",
    "f.write(\"Now the file has more content!\")\n",
    "f.close()\n",
    "\n",
    "Note: the \"w\" method will overwrite the entire file.\n",
    "\n",
    "f = open(\"myfile.txt\", \"x\") # CReates a new file\n",
    "f = open(\"myfile.txt\", \"w\") # Creates a new file if it doesn't exist\n",
    "\n",
    "import os\n",
    "os.remove(\"demofile.txt\")\n",
    "\n",
    "#Check if file exists, then delete it:\n",
    "import os\n",
    "if os.path.exists(\"demofile.txt\"):\n",
    "  os.remove(\"demofile.txt\")\n",
    "else:\n",
    "  print(\"The file does not exist\")\n",
    "\n",
    "#Remove the folder \"myfolder\":\n",
    "import os\n",
    "os.rmdir(\"myfolder\")\n",
    "\n",
    "Note: You can only remove empty folders.\n",
    "\n"
   ]
  }
 ],
 "metadata": {
  "kernelspec": {
   "display_name": "Python 3 (ipykernel)",
   "language": "python",
   "name": "python3"
  },
  "language_info": {
   "codemirror_mode": {
    "name": "ipython",
    "version": 3
   },
   "file_extension": ".py",
   "mimetype": "text/x-python",
   "name": "python",
   "nbconvert_exporter": "python",
   "pygments_lexer": "ipython3",
   "version": "3.11.7"
  }
 },
 "nbformat": 4,
 "nbformat_minor": 5
}
